{
 "cells": [
  {
   "cell_type": "code",
   "execution_count": 1,
   "metadata": {
    "ExecuteTime": {
     "end_time": "2021-06-17T09:04:58.676852Z",
     "start_time": "2021-06-17T09:04:57.909854Z"
    }
   },
   "outputs": [],
   "source": [
    "import sqlite3\n",
    "from sqlite3 import Error\n",
    "import pandas as pd\n",
    "import numpy as np"
   ]
  },
  {
   "cell_type": "markdown",
   "metadata": {},
   "source": [
    "# Loading CSV file"
   ]
  },
  {
   "cell_type": "code",
   "execution_count": 2,
   "metadata": {
    "ExecuteTime": {
     "end_time": "2021-06-17T09:05:01.742852Z",
     "start_time": "2021-06-17T09:04:58.680854Z"
    }
   },
   "outputs": [],
   "source": [
    "df_anime = pd.read_csv(r'data\\myAnimelist-No_Hentai 2.csv').drop(columns='genre')\n",
    "df_anime.rename(columns={\"animeID\":'anime_id'},inplace=True)\n",
    "df_rating = pd.read_csv(r'data\\rating.csv')"
   ]
  },
  {
   "cell_type": "code",
   "execution_count": 3,
   "metadata": {
    "ExecuteTime": {
     "end_time": "2021-06-17T09:05:02.428853Z",
     "start_time": "2021-06-17T09:05:01.748854Z"
    }
   },
   "outputs": [
    {
     "name": "stdout",
     "output_type": "stream",
     "text": [
      "(7813737, 3)\n"
     ]
    },
    {
     "data": {
      "text/html": [
       "<div>\n",
       "<style scoped>\n",
       "    .dataframe tbody tr th:only-of-type {\n",
       "        vertical-align: middle;\n",
       "    }\n",
       "\n",
       "    .dataframe tbody tr th {\n",
       "        vertical-align: top;\n",
       "    }\n",
       "\n",
       "    .dataframe thead th {\n",
       "        text-align: right;\n",
       "    }\n",
       "</style>\n",
       "<table border=\"1\" class=\"dataframe\">\n",
       "  <thead>\n",
       "    <tr style=\"text-align: right;\">\n",
       "      <th></th>\n",
       "      <th>user_id</th>\n",
       "      <th>anime_id</th>\n",
       "      <th>rating</th>\n",
       "    </tr>\n",
       "  </thead>\n",
       "  <tbody>\n",
       "    <tr>\n",
       "      <th>1614</th>\n",
       "      <td>17</td>\n",
       "      <td>6</td>\n",
       "      <td>7</td>\n",
       "    </tr>\n",
       "    <tr>\n",
       "      <th>1615</th>\n",
       "      <td>17</td>\n",
       "      <td>19</td>\n",
       "      <td>10</td>\n",
       "    </tr>\n",
       "    <tr>\n",
       "      <th>1616</th>\n",
       "      <td>17</td>\n",
       "      <td>30</td>\n",
       "      <td>9</td>\n",
       "    </tr>\n",
       "    <tr>\n",
       "      <th>1617</th>\n",
       "      <td>17</td>\n",
       "      <td>32</td>\n",
       "      <td>10</td>\n",
       "    </tr>\n",
       "    <tr>\n",
       "      <th>1618</th>\n",
       "      <td>17</td>\n",
       "      <td>43</td>\n",
       "      <td>8</td>\n",
       "    </tr>\n",
       "    <tr>\n",
       "      <th>...</th>\n",
       "      <td>...</td>\n",
       "      <td>...</td>\n",
       "      <td>...</td>\n",
       "    </tr>\n",
       "    <tr>\n",
       "      <th>7812698</th>\n",
       "      <td>73502</td>\n",
       "      <td>18893</td>\n",
       "      <td>9</td>\n",
       "    </tr>\n",
       "    <tr>\n",
       "      <th>7812699</th>\n",
       "      <td>73502</td>\n",
       "      <td>19151</td>\n",
       "      <td>5</td>\n",
       "    </tr>\n",
       "    <tr>\n",
       "      <th>7812700</th>\n",
       "      <td>73502</td>\n",
       "      <td>19221</td>\n",
       "      <td>6</td>\n",
       "    </tr>\n",
       "    <tr>\n",
       "      <th>7812701</th>\n",
       "      <td>73502</td>\n",
       "      <td>19367</td>\n",
       "      <td>6</td>\n",
       "    </tr>\n",
       "    <tr>\n",
       "      <th>7812702</th>\n",
       "      <td>73502</td>\n",
       "      <td>19369</td>\n",
       "      <td>9</td>\n",
       "    </tr>\n",
       "  </tbody>\n",
       "</table>\n",
       "<p>1379631 rows × 3 columns</p>\n",
       "</div>"
      ],
      "text/plain": [
       "         user_id  anime_id  rating\n",
       "1614          17         6       7\n",
       "1615          17        19      10\n",
       "1616          17        30       9\n",
       "1617          17        32      10\n",
       "1618          17        43       8\n",
       "...          ...       ...     ...\n",
       "7812698    73502     18893       9\n",
       "7812699    73502     19151       5\n",
       "7812700    73502     19221       6\n",
       "7812701    73502     19367       6\n",
       "7812702    73502     19369       9\n",
       "\n",
       "[1379631 rows x 3 columns]"
      ]
     },
     "execution_count": 3,
     "metadata": {},
     "output_type": "execute_result"
    }
   ],
   "source": [
    "print(df_rating.shape)\n",
    "# filtering for computational reasons & file saving size\n",
    "df_rating_filtered = df_rating[df_rating.groupby(\"user_id\")['user_id'].transform('size') > 500]\n",
    "df_rating_filtered"
   ]
  },
  {
   "cell_type": "code",
   "execution_count": 4,
   "metadata": {
    "ExecuteTime": {
     "end_time": "2021-06-17T09:05:02.492853Z",
     "start_time": "2021-06-17T09:05:02.431853Z"
    }
   },
   "outputs": [
    {
     "data": {
      "text/html": [
       "<div>\n",
       "<style scoped>\n",
       "    .dataframe tbody tr th:only-of-type {\n",
       "        vertical-align: middle;\n",
       "    }\n",
       "\n",
       "    .dataframe tbody tr th {\n",
       "        vertical-align: top;\n",
       "    }\n",
       "\n",
       "    .dataframe thead th {\n",
       "        text-align: right;\n",
       "    }\n",
       "</style>\n",
       "<table border=\"1\" class=\"dataframe\">\n",
       "  <thead>\n",
       "    <tr style=\"text-align: right;\">\n",
       "      <th></th>\n",
       "      <th>anime_id</th>\n",
       "      <th>name</th>\n",
       "      <th>type</th>\n",
       "      <th>source</th>\n",
       "      <th>episodes</th>\n",
       "      <th>duration</th>\n",
       "      <th>rating</th>\n",
       "      <th>score</th>\n",
       "      <th>scored_by</th>\n",
       "      <th>rank</th>\n",
       "      <th>popularity</th>\n",
       "      <th>members</th>\n",
       "      <th>favorites</th>\n",
       "    </tr>\n",
       "  </thead>\n",
       "  <tbody>\n",
       "    <tr>\n",
       "      <th>0</th>\n",
       "      <td>1</td>\n",
       "      <td>Cowboy Bebop</td>\n",
       "      <td>TV</td>\n",
       "      <td>Original</td>\n",
       "      <td>26</td>\n",
       "      <td>0:24:00</td>\n",
       "      <td>R - 17+ (violence &amp; profanity)</td>\n",
       "      <td>8.81</td>\n",
       "      <td>405664</td>\n",
       "      <td>26</td>\n",
       "      <td>39</td>\n",
       "      <td>795733</td>\n",
       "      <td>43460</td>\n",
       "    </tr>\n",
       "    <tr>\n",
       "      <th>1</th>\n",
       "      <td>5</td>\n",
       "      <td>Cowboy Bebop: Tengoku no Tobira</td>\n",
       "      <td>Movie</td>\n",
       "      <td>Original</td>\n",
       "      <td>1</td>\n",
       "      <td>1:55:00</td>\n",
       "      <td>R - 17+ (violence &amp; profanity)</td>\n",
       "      <td>8.41</td>\n",
       "      <td>120243</td>\n",
       "      <td>164</td>\n",
       "      <td>449</td>\n",
       "      <td>197791</td>\n",
       "      <td>776</td>\n",
       "    </tr>\n",
       "    <tr>\n",
       "      <th>2</th>\n",
       "      <td>6</td>\n",
       "      <td>Trigun</td>\n",
       "      <td>TV</td>\n",
       "      <td>Manga</td>\n",
       "      <td>26</td>\n",
       "      <td>0:24:00</td>\n",
       "      <td>PG-13 - Teens 13 or older</td>\n",
       "      <td>8.30</td>\n",
       "      <td>212537</td>\n",
       "      <td>255</td>\n",
       "      <td>146</td>\n",
       "      <td>408548</td>\n",
       "      <td>10432</td>\n",
       "    </tr>\n",
       "    <tr>\n",
       "      <th>3</th>\n",
       "      <td>7</td>\n",
       "      <td>Witch Hunter Robin</td>\n",
       "      <td>TV</td>\n",
       "      <td>Original</td>\n",
       "      <td>26</td>\n",
       "      <td>0:25:00</td>\n",
       "      <td>PG-13 - Teens 13 or older</td>\n",
       "      <td>7.33</td>\n",
       "      <td>32837</td>\n",
       "      <td>2371</td>\n",
       "      <td>1171</td>\n",
       "      <td>79397</td>\n",
       "      <td>537</td>\n",
       "    </tr>\n",
       "    <tr>\n",
       "      <th>4</th>\n",
       "      <td>8</td>\n",
       "      <td>Bouken Ou Beet</td>\n",
       "      <td>TV</td>\n",
       "      <td>Manga</td>\n",
       "      <td>52</td>\n",
       "      <td>0:23:00</td>\n",
       "      <td>PG - Children</td>\n",
       "      <td>7.03</td>\n",
       "      <td>4894</td>\n",
       "      <td>3544</td>\n",
       "      <td>3704</td>\n",
       "      <td>11708</td>\n",
       "      <td>14</td>\n",
       "    </tr>\n",
       "    <tr>\n",
       "      <th>...</th>\n",
       "      <td>...</td>\n",
       "      <td>...</td>\n",
       "      <td>...</td>\n",
       "      <td>...</td>\n",
       "      <td>...</td>\n",
       "      <td>...</td>\n",
       "      <td>...</td>\n",
       "      <td>...</td>\n",
       "      <td>...</td>\n",
       "      <td>...</td>\n",
       "      <td>...</td>\n",
       "      <td>...</td>\n",
       "      <td>...</td>\n",
       "    </tr>\n",
       "    <tr>\n",
       "      <th>5555</th>\n",
       "      <td>38923</td>\n",
       "      <td>Sinbi Apateu: Ghost Ball Bimil</td>\n",
       "      <td>TV</td>\n",
       "      <td>Original</td>\n",
       "      <td>24</td>\n",
       "      <td>0:24:00</td>\n",
       "      <td>G - All Ages</td>\n",
       "      <td>7.00</td>\n",
       "      <td>4</td>\n",
       "      <td>13056</td>\n",
       "      <td>15281</td>\n",
       "      <td>30</td>\n",
       "      <td>1</td>\n",
       "    </tr>\n",
       "    <tr>\n",
       "      <th>5556</th>\n",
       "      <td>38961</td>\n",
       "      <td>Takoyaki Story</td>\n",
       "      <td>Music</td>\n",
       "      <td>Original</td>\n",
       "      <td>1</td>\n",
       "      <td>0:01:00</td>\n",
       "      <td>R+ - Mild Nudity</td>\n",
       "      <td>3.28</td>\n",
       "      <td>25</td>\n",
       "      <td>13254</td>\n",
       "      <td>15083</td>\n",
       "      <td>46</td>\n",
       "      <td>0</td>\n",
       "    </tr>\n",
       "    <tr>\n",
       "      <th>5557</th>\n",
       "      <td>38985</td>\n",
       "      <td>Birthday Wonderland</td>\n",
       "      <td>Movie</td>\n",
       "      <td>Book</td>\n",
       "      <td>1</td>\n",
       "      <td>1:55:00</td>\n",
       "      <td>G - All Ages</td>\n",
       "      <td>6.61</td>\n",
       "      <td>327</td>\n",
       "      <td>5504</td>\n",
       "      <td>9195</td>\n",
       "      <td>835</td>\n",
       "      <td>2</td>\n",
       "    </tr>\n",
       "    <tr>\n",
       "      <th>5558</th>\n",
       "      <td>39022</td>\n",
       "      <td>Ling Feng Zhe</td>\n",
       "      <td>ONA</td>\n",
       "      <td>Original</td>\n",
       "      <td>7</td>\n",
       "      <td>0:24:00</td>\n",
       "      <td>PG-13 - Teens 13 or older</td>\n",
       "      <td>6.08</td>\n",
       "      <td>38</td>\n",
       "      <td>11923</td>\n",
       "      <td>10455</td>\n",
       "      <td>467</td>\n",
       "      <td>2</td>\n",
       "    </tr>\n",
       "    <tr>\n",
       "      <th>5559</th>\n",
       "      <td>39116</td>\n",
       "      <td>Jue Ji</td>\n",
       "      <td>Movie</td>\n",
       "      <td>Original</td>\n",
       "      <td>1</td>\n",
       "      <td>1:57:00</td>\n",
       "      <td>G - All Ages</td>\n",
       "      <td>6.41</td>\n",
       "      <td>44</td>\n",
       "      <td>11491</td>\n",
       "      <td>15420</td>\n",
       "      <td>10</td>\n",
       "      <td>0</td>\n",
       "    </tr>\n",
       "  </tbody>\n",
       "</table>\n",
       "<p>5560 rows × 13 columns</p>\n",
       "</div>"
      ],
      "text/plain": [
       "      anime_id                             name   type    source  episodes  \\\n",
       "0            1                     Cowboy Bebop     TV  Original        26   \n",
       "1            5  Cowboy Bebop: Tengoku no Tobira  Movie  Original         1   \n",
       "2            6                           Trigun     TV     Manga        26   \n",
       "3            7               Witch Hunter Robin     TV  Original        26   \n",
       "4            8                   Bouken Ou Beet     TV     Manga        52   \n",
       "...        ...                              ...    ...       ...       ...   \n",
       "5555     38923   Sinbi Apateu: Ghost Ball Bimil     TV  Original        24   \n",
       "5556     38961                   Takoyaki Story  Music  Original         1   \n",
       "5557     38985              Birthday Wonderland  Movie      Book         1   \n",
       "5558     39022                    Ling Feng Zhe    ONA  Original         7   \n",
       "5559     39116                           Jue Ji  Movie  Original         1   \n",
       "\n",
       "     duration                          rating  score  scored_by   rank  \\\n",
       "0     0:24:00  R - 17+ (violence & profanity)   8.81     405664     26   \n",
       "1     1:55:00  R - 17+ (violence & profanity)   8.41     120243    164   \n",
       "2     0:24:00       PG-13 - Teens 13 or older   8.30     212537    255   \n",
       "3     0:25:00       PG-13 - Teens 13 or older   7.33      32837   2371   \n",
       "4     0:23:00                   PG - Children   7.03       4894   3544   \n",
       "...       ...                             ...    ...        ...    ...   \n",
       "5555  0:24:00                    G - All Ages   7.00          4  13056   \n",
       "5556  0:01:00                R+ - Mild Nudity   3.28         25  13254   \n",
       "5557  1:55:00                    G - All Ages   6.61        327   5504   \n",
       "5558  0:24:00       PG-13 - Teens 13 or older   6.08         38  11923   \n",
       "5559  1:57:00                    G - All Ages   6.41         44  11491   \n",
       "\n",
       "      popularity  members  favorites  \n",
       "0             39   795733      43460  \n",
       "1            449   197791        776  \n",
       "2            146   408548      10432  \n",
       "3           1171    79397        537  \n",
       "4           3704    11708         14  \n",
       "...          ...      ...        ...  \n",
       "5555       15281       30          1  \n",
       "5556       15083       46          0  \n",
       "5557        9195      835          2  \n",
       "5558       10455      467          2  \n",
       "5559       15420       10          0  \n",
       "\n",
       "[5560 rows x 13 columns]"
      ]
     },
     "metadata": {},
     "output_type": "display_data"
    },
    {
     "data": {
      "text/html": [
       "<div>\n",
       "<style scoped>\n",
       "    .dataframe tbody tr th:only-of-type {\n",
       "        vertical-align: middle;\n",
       "    }\n",
       "\n",
       "    .dataframe tbody tr th {\n",
       "        vertical-align: top;\n",
       "    }\n",
       "\n",
       "    .dataframe thead th {\n",
       "        text-align: right;\n",
       "    }\n",
       "</style>\n",
       "<table border=\"1\" class=\"dataframe\">\n",
       "  <thead>\n",
       "    <tr style=\"text-align: right;\">\n",
       "      <th></th>\n",
       "      <th>user_id</th>\n",
       "      <th>anime_id</th>\n",
       "      <th>rating</th>\n",
       "    </tr>\n",
       "  </thead>\n",
       "  <tbody>\n",
       "    <tr>\n",
       "      <th>0</th>\n",
       "      <td>1</td>\n",
       "      <td>20</td>\n",
       "      <td>-1</td>\n",
       "    </tr>\n",
       "    <tr>\n",
       "      <th>1</th>\n",
       "      <td>1</td>\n",
       "      <td>24</td>\n",
       "      <td>-1</td>\n",
       "    </tr>\n",
       "    <tr>\n",
       "      <th>2</th>\n",
       "      <td>1</td>\n",
       "      <td>79</td>\n",
       "      <td>-1</td>\n",
       "    </tr>\n",
       "    <tr>\n",
       "      <th>3</th>\n",
       "      <td>1</td>\n",
       "      <td>226</td>\n",
       "      <td>-1</td>\n",
       "    </tr>\n",
       "    <tr>\n",
       "      <th>4</th>\n",
       "      <td>1</td>\n",
       "      <td>241</td>\n",
       "      <td>-1</td>\n",
       "    </tr>\n",
       "    <tr>\n",
       "      <th>...</th>\n",
       "      <td>...</td>\n",
       "      <td>...</td>\n",
       "      <td>...</td>\n",
       "    </tr>\n",
       "    <tr>\n",
       "      <th>7813732</th>\n",
       "      <td>73515</td>\n",
       "      <td>16512</td>\n",
       "      <td>7</td>\n",
       "    </tr>\n",
       "    <tr>\n",
       "      <th>7813733</th>\n",
       "      <td>73515</td>\n",
       "      <td>17187</td>\n",
       "      <td>9</td>\n",
       "    </tr>\n",
       "    <tr>\n",
       "      <th>7813734</th>\n",
       "      <td>73515</td>\n",
       "      <td>22145</td>\n",
       "      <td>10</td>\n",
       "    </tr>\n",
       "    <tr>\n",
       "      <th>7813735</th>\n",
       "      <td>73516</td>\n",
       "      <td>790</td>\n",
       "      <td>9</td>\n",
       "    </tr>\n",
       "    <tr>\n",
       "      <th>7813736</th>\n",
       "      <td>73516</td>\n",
       "      <td>8074</td>\n",
       "      <td>9</td>\n",
       "    </tr>\n",
       "  </tbody>\n",
       "</table>\n",
       "<p>7813737 rows × 3 columns</p>\n",
       "</div>"
      ],
      "text/plain": [
       "         user_id  anime_id  rating\n",
       "0              1        20      -1\n",
       "1              1        24      -1\n",
       "2              1        79      -1\n",
       "3              1       226      -1\n",
       "4              1       241      -1\n",
       "...          ...       ...     ...\n",
       "7813732    73515     16512       7\n",
       "7813733    73515     17187       9\n",
       "7813734    73515     22145      10\n",
       "7813735    73516       790       9\n",
       "7813736    73516      8074       9\n",
       "\n",
       "[7813737 rows x 3 columns]"
      ]
     },
     "metadata": {},
     "output_type": "display_data"
    }
   ],
   "source": [
    "display(df_anime)\n",
    "display(df_rating)"
   ]
  },
  {
   "cell_type": "code",
   "execution_count": 5,
   "metadata": {
    "ExecuteTime": {
     "end_time": "2021-06-17T09:05:02.507853Z",
     "start_time": "2021-06-17T09:05:02.497853Z"
    }
   },
   "outputs": [],
   "source": [
    "# Database Path object for easier calling\n",
    "db_path = r\"db\\anime.db\""
   ]
  },
  {
   "cell_type": "markdown",
   "metadata": {},
   "source": [
    "# Create a new database"
   ]
  },
  {
   "cell_type": "code",
   "execution_count": 6,
   "metadata": {
    "ExecuteTime": {
     "end_time": "2021-06-17T09:05:02.523853Z",
     "start_time": "2021-06-17T09:05:02.510853Z"
    }
   },
   "outputs": [
    {
     "name": "stdout",
     "output_type": "stream",
     "text": [
      "sqlite3 version: 2.6.0\n",
      "Created Database\n"
     ]
    }
   ],
   "source": [
    "# Create a new database file\n",
    "\n",
    "def create_database(db_file):\n",
    "    \"\"\" create a database connection to a SQLite database \"\"\"\n",
    "    conn = None\n",
    "    # connect to database file\n",
    "    try:\n",
    "        conn = sqlite3.connect(db_file)\n",
    "        print(f'sqlite3 version: {sqlite3.version}')\n",
    "        print('Created Database')\n",
    "    # print error if connection can not be established\n",
    "    except Error as error:\n",
    "        print(error)\n",
    "        print('Could not create Database')\n",
    "    # close connection\n",
    "    finally:\n",
    "        if conn:\n",
    "            conn.close()\n",
    "    \n",
    "\n",
    "# run the above function (save database file to path)\n",
    "if __name__ == '__main__':\n",
    "    create_database(db_path)"
   ]
  },
  {
   "cell_type": "code",
   "execution_count": 7,
   "metadata": {
    "ExecuteTime": {
     "end_time": "2021-06-17T09:05:02.539852Z",
     "start_time": "2021-06-17T09:05:02.526882Z"
    }
   },
   "outputs": [],
   "source": [
    "# # Create a new database that resides in the memory (RAM)\n",
    "\n",
    "# def create_database():\n",
    "#     \"\"\" create a database connection to a database that resides\n",
    "#         in the memory\n",
    "#     \"\"\"\n",
    "#     conn = None;\n",
    "#     # connect to memory\n",
    "#     try:\n",
    "#         conn = sqlite3.connect(':memory:')\n",
    "#         print(f'sqlite3 version: {sqlite3.version}')\n",
    "#         print('Created Database')\n",
    "#     # print error if connection can not be established\n",
    "#     except Error as error:\n",
    "#         print(error)\n",
    "#         print('Could not create Database')\n",
    "#     # close connection\n",
    "#     finally:\n",
    "#         if conn:\n",
    "#             conn.close()\n",
    "    \n",
    "\n",
    "# # run the above function\n",
    "# if __name__ == '__main__':\n",
    "#     create_database()\n"
   ]
  },
  {
   "cell_type": "markdown",
   "metadata": {},
   "source": [
    "# Create Tables"
   ]
  },
  {
   "cell_type": "code",
   "execution_count": 8,
   "metadata": {
    "ExecuteTime": {
     "end_time": "2021-06-17T09:05:02.555853Z",
     "start_time": "2021-06-17T09:05:02.544854Z"
    }
   },
   "outputs": [],
   "source": [
    "# function for establish connection to SQLite3 for editing database\n",
    "\n",
    "def establish_connection(db_file):\n",
    "    \"\"\" \n",
    "    creates a database connection to a SQLite database file\n",
    "    \n",
    "    :returns: Connection object or None\n",
    "    \"\"\"\n",
    "    conn = None\n",
    "    # connect to database file\n",
    "    try:\n",
    "        conn = sqlite3.connect(db_file)\n",
    "        print(f'sqlite3 version: {sqlite3.version}')\n",
    "        print('Connected to Database path')\n",
    "    # print error if connection can not be established\n",
    "    except Error as error:\n",
    "        print(error)\n",
    "        print('Could not create Database')\n",
    "    \n",
    "    return conn"
   ]
  },
  {
   "cell_type": "code",
   "execution_count": 9,
   "metadata": {
    "ExecuteTime": {
     "end_time": "2021-06-17T09:05:02.570853Z",
     "start_time": "2021-06-17T09:05:02.559852Z"
    }
   },
   "outputs": [],
   "source": [
    "# function for creating table in database\n",
    "\n",
    "def create_table(conn, create_table_sql):\n",
    "    \"\"\" create a table from the create_table_sql statement\n",
    "    :param conn: Connection object\n",
    "    :param create_table_sql: a CREATE TABLE statement\n",
    "    :return:\n",
    "    \"\"\"\n",
    "    print('Creating tables')\n",
    "    try:\n",
    "        # make object cursor from connect\n",
    "        c = conn.cursor()\n",
    "        # from cursor use execute to create table\n",
    "        c.execute(create_table_sql)\n",
    "    except Error as error:\n",
    "        print(error)"
   ]
  },
  {
   "cell_type": "code",
   "execution_count": 10,
   "metadata": {
    "ExecuteTime": {
     "end_time": "2021-06-17T09:05:02.602851Z",
     "start_time": "2021-06-17T09:05:02.573854Z"
    }
   },
   "outputs": [
    {
     "name": "stdout",
     "output_type": "stream",
     "text": [
      "sqlite3 version: 2.6.0\n",
      "Connected to Database path}\n",
      "Creating tables\n",
      "Creating tables\n",
      "Created tables\n"
     ]
    }
   ],
   "source": [
    "# Create database schema\n",
    "\n",
    "def main():\n",
    "    \n",
    "    sql_create_anime_table = \"\"\" CREATE TABLE IF NOT EXISTS Anime (\n",
    "                                        anime_id integer PRIMARY KEY NOT NULL,\n",
    "                                        name text NOT NULL,\n",
    "                                        type text,\n",
    "                                        source text,\n",
    "                                        episodes integer,\n",
    "                                        duration datetime,\n",
    "                                        rating text,\n",
    "                                        score real,\n",
    "                                        scored_by integer,\n",
    "                                        rank integer,\n",
    "                                        popularity integer,\n",
    "                                        members integer,\n",
    "                                        favorites integer,\n",
    "                                        FOREIGN KEY (anime_id) REFERENCES rating (anime_id)\n",
    "                                    ); \"\"\"\n",
    "\n",
    "    sql_create_rating_table = \"\"\"CREATE TABLE IF NOT EXISTS Rating (\n",
    "                                    anime_id integer PRIMARY KEY NOT NULL,\n",
    "                                    user_id integer NOT NULL,\n",
    "                                    rating integer,\n",
    "                                    FOREIGN KEY (anime_id) REFERENCES anime (anime_id)\n",
    "                                    \n",
    "                                );\"\"\"\n",
    "\n",
    "    # create a database connection\n",
    "    conn = establish_connection(db_path)\n",
    "\n",
    "    # create tables\n",
    "    if conn is not None:\n",
    "        # create Anime table\n",
    "        create_table(conn, sql_create_anime_table)\n",
    "\n",
    "        # create Rating table\n",
    "        create_table(conn, sql_create_rating_table)\n",
    "        \n",
    "        print(\"Created tables\")\n",
    "    else:\n",
    "        print(\"Error! cannot create the database connection.\")\n",
    "        \n",
    "    \n",
    "\n",
    "    \n",
    "if __name__ == '__main__':\n",
    "    main()"
   ]
  },
  {
   "cell_type": "code",
   "execution_count": 11,
   "metadata": {
    "ExecuteTime": {
     "end_time": "2021-06-17T09:05:02.649852Z",
     "start_time": "2021-06-17T09:05:02.605854Z"
    },
    "scrolled": true
   },
   "outputs": [
    {
     "data": {
      "text/html": [
       "<div>\n",
       "<style scoped>\n",
       "    .dataframe tbody tr th:only-of-type {\n",
       "        vertical-align: middle;\n",
       "    }\n",
       "\n",
       "    .dataframe tbody tr th {\n",
       "        vertical-align: top;\n",
       "    }\n",
       "\n",
       "    .dataframe thead th {\n",
       "        text-align: right;\n",
       "    }\n",
       "</style>\n",
       "<table border=\"1\" class=\"dataframe\">\n",
       "  <thead>\n",
       "    <tr style=\"text-align: right;\">\n",
       "      <th></th>\n",
       "      <th>anime_id</th>\n",
       "      <th>name</th>\n",
       "      <th>type</th>\n",
       "      <th>source</th>\n",
       "      <th>episodes</th>\n",
       "      <th>duration</th>\n",
       "      <th>rating</th>\n",
       "      <th>score</th>\n",
       "      <th>scored_by</th>\n",
       "      <th>rank</th>\n",
       "      <th>popularity</th>\n",
       "      <th>members</th>\n",
       "      <th>favorites</th>\n",
       "    </tr>\n",
       "  </thead>\n",
       "  <tbody>\n",
       "    <tr>\n",
       "      <th>0</th>\n",
       "      <td>1</td>\n",
       "      <td>Cowboy Bebop</td>\n",
       "      <td>TV</td>\n",
       "      <td>Original</td>\n",
       "      <td>26</td>\n",
       "      <td>0:24:00</td>\n",
       "      <td>R - 17+ (violence &amp; profanity)</td>\n",
       "      <td>8.81</td>\n",
       "      <td>405664</td>\n",
       "      <td>26</td>\n",
       "      <td>39</td>\n",
       "      <td>795733</td>\n",
       "      <td>43460</td>\n",
       "    </tr>\n",
       "    <tr>\n",
       "      <th>1</th>\n",
       "      <td>5</td>\n",
       "      <td>Cowboy Bebop: Tengoku no Tobira</td>\n",
       "      <td>Movie</td>\n",
       "      <td>Original</td>\n",
       "      <td>1</td>\n",
       "      <td>1:55:00</td>\n",
       "      <td>R - 17+ (violence &amp; profanity)</td>\n",
       "      <td>8.41</td>\n",
       "      <td>120243</td>\n",
       "      <td>164</td>\n",
       "      <td>449</td>\n",
       "      <td>197791</td>\n",
       "      <td>776</td>\n",
       "    </tr>\n",
       "    <tr>\n",
       "      <th>2</th>\n",
       "      <td>6</td>\n",
       "      <td>Trigun</td>\n",
       "      <td>TV</td>\n",
       "      <td>Manga</td>\n",
       "      <td>26</td>\n",
       "      <td>0:24:00</td>\n",
       "      <td>PG-13 - Teens 13 or older</td>\n",
       "      <td>8.30</td>\n",
       "      <td>212537</td>\n",
       "      <td>255</td>\n",
       "      <td>146</td>\n",
       "      <td>408548</td>\n",
       "      <td>10432</td>\n",
       "    </tr>\n",
       "    <tr>\n",
       "      <th>3</th>\n",
       "      <td>7</td>\n",
       "      <td>Witch Hunter Robin</td>\n",
       "      <td>TV</td>\n",
       "      <td>Original</td>\n",
       "      <td>26</td>\n",
       "      <td>0:25:00</td>\n",
       "      <td>PG-13 - Teens 13 or older</td>\n",
       "      <td>7.33</td>\n",
       "      <td>32837</td>\n",
       "      <td>2371</td>\n",
       "      <td>1171</td>\n",
       "      <td>79397</td>\n",
       "      <td>537</td>\n",
       "    </tr>\n",
       "    <tr>\n",
       "      <th>4</th>\n",
       "      <td>8</td>\n",
       "      <td>Bouken Ou Beet</td>\n",
       "      <td>TV</td>\n",
       "      <td>Manga</td>\n",
       "      <td>52</td>\n",
       "      <td>0:23:00</td>\n",
       "      <td>PG - Children</td>\n",
       "      <td>7.03</td>\n",
       "      <td>4894</td>\n",
       "      <td>3544</td>\n",
       "      <td>3704</td>\n",
       "      <td>11708</td>\n",
       "      <td>14</td>\n",
       "    </tr>\n",
       "  </tbody>\n",
       "</table>\n",
       "</div>"
      ],
      "text/plain": [
       "   anime_id                             name   type    source  episodes  \\\n",
       "0         1                     Cowboy Bebop     TV  Original        26   \n",
       "1         5  Cowboy Bebop: Tengoku no Tobira  Movie  Original         1   \n",
       "2         6                           Trigun     TV     Manga        26   \n",
       "3         7               Witch Hunter Robin     TV  Original        26   \n",
       "4         8                   Bouken Ou Beet     TV     Manga        52   \n",
       "\n",
       "  duration                          rating  score  scored_by  rank  \\\n",
       "0  0:24:00  R - 17+ (violence & profanity)   8.81     405664    26   \n",
       "1  1:55:00  R - 17+ (violence & profanity)   8.41     120243   164   \n",
       "2  0:24:00       PG-13 - Teens 13 or older   8.30     212537   255   \n",
       "3  0:25:00       PG-13 - Teens 13 or older   7.33      32837  2371   \n",
       "4  0:23:00                   PG - Children   7.03       4894  3544   \n",
       "\n",
       "   popularity  members  favorites  \n",
       "0          39   795733      43460  \n",
       "1         449   197791        776  \n",
       "2         146   408548      10432  \n",
       "3        1171    79397        537  \n",
       "4        3704    11708         14  "
      ]
     },
     "metadata": {},
     "output_type": "display_data"
    },
    {
     "data": {
      "text/html": [
       "<div>\n",
       "<style scoped>\n",
       "    .dataframe tbody tr th:only-of-type {\n",
       "        vertical-align: middle;\n",
       "    }\n",
       "\n",
       "    .dataframe tbody tr th {\n",
       "        vertical-align: top;\n",
       "    }\n",
       "\n",
       "    .dataframe thead th {\n",
       "        text-align: right;\n",
       "    }\n",
       "</style>\n",
       "<table border=\"1\" class=\"dataframe\">\n",
       "  <thead>\n",
       "    <tr style=\"text-align: right;\">\n",
       "      <th></th>\n",
       "      <th>user_id</th>\n",
       "      <th>anime_id</th>\n",
       "      <th>rating</th>\n",
       "    </tr>\n",
       "  </thead>\n",
       "  <tbody>\n",
       "    <tr>\n",
       "      <th>0</th>\n",
       "      <td>1</td>\n",
       "      <td>20</td>\n",
       "      <td>-1</td>\n",
       "    </tr>\n",
       "    <tr>\n",
       "      <th>1</th>\n",
       "      <td>1</td>\n",
       "      <td>24</td>\n",
       "      <td>-1</td>\n",
       "    </tr>\n",
       "    <tr>\n",
       "      <th>2</th>\n",
       "      <td>1</td>\n",
       "      <td>79</td>\n",
       "      <td>-1</td>\n",
       "    </tr>\n",
       "    <tr>\n",
       "      <th>3</th>\n",
       "      <td>1</td>\n",
       "      <td>226</td>\n",
       "      <td>-1</td>\n",
       "    </tr>\n",
       "    <tr>\n",
       "      <th>4</th>\n",
       "      <td>1</td>\n",
       "      <td>241</td>\n",
       "      <td>-1</td>\n",
       "    </tr>\n",
       "  </tbody>\n",
       "</table>\n",
       "</div>"
      ],
      "text/plain": [
       "   user_id  anime_id  rating\n",
       "0        1        20      -1\n",
       "1        1        24      -1\n",
       "2        1        79      -1\n",
       "3        1       226      -1\n",
       "4        1       241      -1"
      ]
     },
     "metadata": {},
     "output_type": "display_data"
    }
   ],
   "source": [
    "display(df_anime.head(5))\n",
    "display(df_rating.head(5))"
   ]
  },
  {
   "cell_type": "markdown",
   "metadata": {},
   "source": [
    "# Populating Tables from csv files"
   ]
  },
  {
   "cell_type": "code",
   "execution_count": 12,
   "metadata": {
    "ExecuteTime": {
     "end_time": "2021-06-17T09:05:55.623852Z",
     "start_time": "2021-06-17T09:05:02.652852Z"
    }
   },
   "outputs": [],
   "source": [
    "# exporting data from dataframe 'anime' to table anime\n",
    "df_anime.to_sql('Anime',sqlite3.connect(db_path), if_exists='replace')\n",
    "\n",
    "# export data from dataframe 'rating' to table rating \n",
    "df_rating.to_sql('Rating',sqlite3.connect(db_path), if_exists='replace')"
   ]
  },
  {
   "cell_type": "code",
   "execution_count": 13,
   "metadata": {
    "ExecuteTime": {
     "end_time": "2021-06-17T09:05:55.639854Z",
     "start_time": "2021-06-17T09:05:55.626853Z"
    }
   },
   "outputs": [
    {
     "name": "stdout",
     "output_type": "stream",
     "text": [
      "Connection successfully closed\n"
     ]
    }
   ],
   "source": [
    "# close connection to database\n",
    "\n",
    "def close_connection(db_file):\n",
    "    try:\n",
    "        conn = sqlite3.connect(db_file)\n",
    "        conn.close()\n",
    "        print('Connection successfully closed')\n",
    "    except Error as error:\n",
    "        print(error)\n",
    "        print('Could not close connection')\n",
    "# run the above function (save database file to path)\n",
    "if __name__ == '__main__':\n",
    "    close_connection(db_path)"
   ]
  },
  {
   "cell_type": "markdown",
   "metadata": {},
   "source": [
    "# Insert data into Tables"
   ]
  },
  {
   "cell_type": "code",
   "execution_count": 14,
   "metadata": {
    "ExecuteTime": {
     "end_time": "2021-06-17T09:05:55.897852Z",
     "start_time": "2021-06-17T09:05:55.642854Z"
    }
   },
   "outputs": [
    {
     "ename": "NameError",
     "evalue": "name 'column_names' is not defined",
     "output_type": "error",
     "traceback": [
      "\u001b[1;31m---------------------------------------------------------------------------\u001b[0m",
      "\u001b[1;31mNameError\u001b[0m                                 Traceback (most recent call last)",
      "\u001b[1;32m<ipython-input-14-43ea29066350>\u001b[0m in \u001b[0;36m<module>\u001b[1;34m\u001b[0m\n\u001b[1;32m----> 1\u001b[1;33m \u001b[0mcolumn_names\u001b[0m\u001b[1;33m\u001b[0m\u001b[1;33m\u001b[0m\u001b[0m\n\u001b[0m",
      "\u001b[1;31mNameError\u001b[0m: name 'column_names' is not defined"
     ]
    }
   ],
   "source": [
    "column_names"
   ]
  },
  {
   "cell_type": "code",
   "execution_count": 15,
   "metadata": {
    "ExecuteTime": {
     "end_time": "2021-06-17T09:07:43.164853Z",
     "start_time": "2021-06-17T09:07:43.155855Z"
    }
   },
   "outputs": [
    {
     "data": {
      "text/plain": [
       "<bound method NDFrame._add_numeric_operations.<locals>.max of 0           1\n",
       "1           5\n",
       "2           6\n",
       "3           7\n",
       "4           8\n",
       "        ...  \n",
       "5555    38923\n",
       "5556    38961\n",
       "5557    38985\n",
       "5558    39022\n",
       "5559    39116\n",
       "Name: anime_id, Length: 5560, dtype: int64>"
      ]
     },
     "execution_count": 15,
     "metadata": {},
     "output_type": "execute_result"
    }
   ],
   "source": [
    "df_anime.anime_id.max"
   ]
  },
  {
   "cell_type": "code",
   "execution_count": 16,
   "metadata": {
    "ExecuteTime": {
     "end_time": "2021-06-17T09:07:43.993855Z",
     "start_time": "2021-06-17T09:07:43.962854Z"
    }
   },
   "outputs": [
    {
     "name": "stdout",
     "output_type": "stream",
     "text": [
      "['anime_id', 'name', 'type', 'source', 'episodes', 'duration', 'rating', 'score', 'scored_by', 'rank', 'popularity', 'members', 'favorites']\n"
     ]
    }
   ],
   "source": [
    "column_names = list(df_anime.columns)\n",
    "print(column_names)\n",
    "\n",
    "vinland_saga = (39200,\"Vinland Saga\",5,6,24,'0:24:00',4,8.71,363439,41,134,737881,20182)\n",
    "demon_slayer = (39201,\"Demon Slayer\",5,6,26,'0:23:00',4,8.61,966203,63,22,1567326,72436)\n",
    "dororo = (39202,\"Dororo\",5,6,24,'0:24:00',4,8.19,341122,322,137,730890,12071)\n",
    "Attack_on_Titan_season_3 = (39203,'Attack on Titan Season 3',5,6,12,'0:23:00',4,8.62,877466,64,32,1370047,17234)\n",
    "my_hero_season_3 = (39204,\"My Hero Academia Season 3\",5,6,25,'0:23:00',3,8.21,916942,294,30,1452482,14255)\n",
    "jujutsu_kaisen = (39205,\"Jujutsu Kaisen\",5,6,24,'0:23:00',4,8.79,441907,26,85,955531,39622)\n",
    "mob_psycho_100_season_2 = (39206,\"Mob Psycho 100 Season 2\",5,14,13,'0:23:00',3,8.83,542236,22,99,903843,22297)\n",
    "\n",
    "info_to_insert = [vinland_saga,demon_slayer,dororo,Attack_on_Titan_season_3,my_hero_season_3,jujutsu_kaisen,mob_psycho_100_season_2]\n",
    "\n",
    "# for col,data in column_names,:\n",
    "#     global() [new_anime_data] = [col,data]"
   ]
  },
  {
   "cell_type": "code",
   "execution_count": 17,
   "metadata": {
    "ExecuteTime": {
     "end_time": "2021-06-17T09:07:44.659853Z",
     "start_time": "2021-06-17T09:07:44.641853Z"
    }
   },
   "outputs": [
    {
     "data": {
      "text/plain": [
       "(39200,\n",
       " 'Vinland Saga',\n",
       " 5,\n",
       " 6,\n",
       " 24,\n",
       " '0:24:00',\n",
       " 4,\n",
       " 8.71,\n",
       " 363439,\n",
       " 41,\n",
       " 134,\n",
       " 737881,\n",
       " 20182)"
      ]
     },
     "execution_count": 17,
     "metadata": {},
     "output_type": "execute_result"
    }
   ],
   "source": [
    "vinland_saga"
   ]
  },
  {
   "cell_type": "code",
   "execution_count": 26,
   "metadata": {
    "ExecuteTime": {
     "end_time": "2021-06-17T09:11:53.501852Z",
     "start_time": "2021-06-17T09:11:53.489853Z"
    }
   },
   "outputs": [],
   "source": [
    "def add_new_anime(conn,data_to_insert):\n",
    "#     conn = establish_connection(db_path)\n",
    "    \n",
    "    \n",
    "    sql = f\"\"\" INSERT into Anime(anime_id, name, type, source, episodes, duration, rating, score, scored_by, rank, popularity, members, favorites) \n",
    "                                            VALUES(?,?,?,?,?,?,?,?,?,?,?,?,?);\"\"\"\n",
    "    cur = conn.cursor()\n",
    "    cur.execute(sql, data_to_insert)\n",
    "    conn.commit()\n",
    "    return cur.lastrowid\n",
    "    "
   ]
  },
  {
   "cell_type": "code",
   "execution_count": 27,
   "metadata": {
    "ExecuteTime": {
     "end_time": "2021-06-17T09:11:54.648854Z",
     "start_time": "2021-06-17T09:11:54.591853Z"
    }
   },
   "outputs": [
    {
     "name": "stdout",
     "output_type": "stream",
     "text": [
      "sqlite3 version: 2.6.0\n",
      "Connected to Database path}\n",
      "Successfully inserted new data into table\n"
     ]
    }
   ],
   "source": [
    "# function for creating table in database\n",
    "\n",
    "\n",
    "    \n",
    "def main():\n",
    "    # create a database connection\n",
    "    conn = establish_connection(db_path)\n",
    "\n",
    "    # insert new anime data\n",
    "    with conn:\n",
    "        for x in info_to_insert:\n",
    "            add_new_anime(conn, x)\n",
    "\n",
    "\n",
    "        print(\"Successfully inserted new data into table\")\n",
    "\n",
    "    \n",
    "    \n",
    "    \n",
    "if __name__ == '__main__':\n",
    "    main()"
   ]
  },
  {
   "cell_type": "code",
   "execution_count": null,
   "metadata": {
    "ExecuteTime": {
     "end_time": "2021-06-15T16:38:32.372384Z",
     "start_time": "2021-06-15T16:38:32.359385Z"
    }
   },
   "outputs": [],
   "source": []
  },
  {
   "cell_type": "markdown",
   "metadata": {
    "ExecuteTime": {
     "end_time": "2021-05-30T22:20:13.465880Z",
     "start_time": "2021-05-30T22:20:13.458881Z"
    }
   },
   "source": [
    "# Querying data with conditions and save to Pandas Dataframe"
   ]
  },
  {
   "cell_type": "code",
   "execution_count": null,
   "metadata": {
    "ExecuteTime": {
     "end_time": "2021-06-17T09:05:55.922853Z",
     "start_time": "2021-06-17T09:04:58.015Z"
    }
   },
   "outputs": [],
   "source": [
    "conn = sqlite3.connect(db_path)"
   ]
  },
  {
   "cell_type": "code",
   "execution_count": null,
   "metadata": {
    "ExecuteTime": {
     "end_time": "2021-06-17T09:05:55.925853Z",
     "start_time": "2021-06-17T09:04:58.021Z"
    }
   },
   "outputs": [],
   "source": [
    "\n",
    "df_score_greater_then_8 = pd.read_sql_query(\"\"\"SELECT * \n",
    "                                               from Anime \n",
    "                                               where score>8 \n",
    "                                               order by score desc;\"\"\", conn)\n",
    "df_score_greater_then_8"
   ]
  },
  {
   "cell_type": "code",
   "execution_count": null,
   "metadata": {
    "ExecuteTime": {
     "end_time": "2021-06-17T09:05:55.927852Z",
     "start_time": "2021-06-17T09:04:58.028Z"
    }
   },
   "outputs": [],
   "source": [
    "df_rank_less_then_100 = pd.read_sql_query(\"Select * from Anime where rank<100 order by rank asc;\", conn)\n",
    "\n",
    "\n",
    "df_rank_less_then_100\n"
   ]
  },
  {
   "cell_type": "code",
   "execution_count": null,
   "metadata": {
    "ExecuteTime": {
     "end_time": "2021-06-17T09:05:55.929853Z",
     "start_time": "2021-06-17T09:04:58.036Z"
    }
   },
   "outputs": [],
   "source": [
    "fullmetal_alchemist_bh_user_ratings = pd.read_sql_query(\"\"\" select * from Rating r\n",
    "                                                            inner join Anime a on a.anime_id = r.anime_id\n",
    "                                                            where a.anime_id = 5114\n",
    "                                                            group by user_id\n",
    "                                                            order by a.anime_id asc\n",
    "\n",
    "                                                            ;\"\"\",conn)\n",
    "                  \n",
    "                  \n",
    "fullmetal_alchemist_bh_user_ratings                      "
   ]
  },
  {
   "cell_type": "code",
   "execution_count": null,
   "metadata": {
    "ExecuteTime": {
     "end_time": "2021-06-17T09:05:55.930853Z",
     "start_time": "2021-06-17T09:04:58.040Z"
    },
    "scrolled": true
   },
   "outputs": [],
   "source": [
    "most_frequent_raters = pd.read_sql_query(\"\"\" select count(r.user_id) total_occurrence,r.user_id, avg(r.rating) avg_rating from Rating r\n",
    "                                             inner join Anime a on a.anime_id = r.anime_id\n",
    "                                             group by r.user_id\n",
    "                                             order by total_occurrence desc\n",
    "\n",
    "                                             limit 10\n",
    "\n",
    "                                            ;\"\"\",conn)\n",
    "                  \n",
    "                            \n",
    "                  \n",
    "most_frequent_raters                  \n",
    "                      "
   ]
  },
  {
   "cell_type": "code",
   "execution_count": null,
   "metadata": {
    "ExecuteTime": {
     "end_time": "2021-06-17T09:05:55.932853Z",
     "start_time": "2021-06-17T09:04:58.045Z"
    }
   },
   "outputs": [],
   "source": [
    "least_frequent_raters = pd.read_sql_query(\"\"\"select count(r.user_id) total_occurrence,r.user_id, avg(r.rating) avg_rating from Rating r\n",
    "                                             inner join Anime a on a.anime_id = r.anime_id\n",
    "                                             group by r.user_id\n",
    "                                             order by total_occurrence asc\n",
    "\n",
    "                                             limit 10\n",
    "\n",
    "                                            ;\"\"\",conn)\n",
    "                  \n",
    "                            \n",
    "                  \n",
    "least_frequent_raters                  \n",
    "                      "
   ]
  },
  {
   "cell_type": "code",
   "execution_count": null,
   "metadata": {
    "ExecuteTime": {
     "end_time": "2021-06-17T09:05:55.934853Z",
     "start_time": "2021-06-17T09:04:58.051Z"
    }
   },
   "outputs": [],
   "source": [
    "total_users_rating_per_anime = pd.read_sql_query(\"\"\" select count(r.user_id) total_occurrence, a.* \n",
    "                                                     from Anime a\n",
    "                                                     inner join Rating r on a.anime_id = r.anime_id\n",
    "                                                     group by a.anime_id\n",
    "                                                     order by total_occurrence desc\n",
    "\n",
    "\n",
    "\n",
    "                                                    ;\"\"\",conn)\n",
    "\n",
    "                            \n",
    "                  \n",
    "                  \n",
    "total_users_rating_per_anime                      "
   ]
  },
  {
   "cell_type": "code",
   "execution_count": null,
   "metadata": {
    "ExecuteTime": {
     "end_time": "2021-06-17T09:05:55.936852Z",
     "start_time": "2021-06-17T09:04:58.057Z"
    }
   },
   "outputs": [],
   "source": [
    "scores_classified = pd.read_sql_query(\"\"\"select *,\n",
    "                                         case\n",
    "                                             when score >= 7.5 then 'highly_scored_game'\n",
    "                                             when 6.0 >= score <= 7.49 then 'moderately_scored_game'\n",
    "                                             else 'poorly_scored_game'\n",
    "                                         end as 'anime_scored_classification'    \n",
    "                                         from Anime\n",
    "                                     ;\"\"\",conn)\n",
    "scores_classified"
   ]
  },
  {
   "cell_type": "code",
   "execution_count": null,
   "metadata": {},
   "outputs": [],
   "source": []
  },
  {
   "cell_type": "code",
   "execution_count": null,
   "metadata": {},
   "outputs": [],
   "source": []
  },
  {
   "cell_type": "code",
   "execution_count": null,
   "metadata": {},
   "outputs": [],
   "source": []
  },
  {
   "cell_type": "code",
   "execution_count": null,
   "metadata": {},
   "outputs": [],
   "source": []
  },
  {
   "cell_type": "code",
   "execution_count": null,
   "metadata": {},
   "outputs": [],
   "source": []
  }
 ],
 "metadata": {
  "kernelspec": {
   "display_name": "Python 3",
   "language": "python",
   "name": "python3"
  },
  "language_info": {
   "codemirror_mode": {
    "name": "ipython",
    "version": 3
   },
   "file_extension": ".py",
   "mimetype": "text/x-python",
   "name": "python",
   "nbconvert_exporter": "python",
   "pygments_lexer": "ipython3",
   "version": "3.7.4"
  },
  "toc": {
   "base_numbering": 1,
   "nav_menu": {},
   "number_sections": true,
   "sideBar": true,
   "skip_h1_title": false,
   "title_cell": "Table of Contents",
   "title_sidebar": "Contents",
   "toc_cell": false,
   "toc_position": {},
   "toc_section_display": true,
   "toc_window_display": false
  }
 },
 "nbformat": 4,
 "nbformat_minor": 2
}
