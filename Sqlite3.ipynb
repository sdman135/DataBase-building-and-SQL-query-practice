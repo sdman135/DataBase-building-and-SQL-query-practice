{
 "cells": [
  {
   "cell_type": "code",
   "execution_count": 1,
   "metadata": {
    "ExecuteTime": {
     "end_time": "2021-05-30T04:27:10.623052Z",
     "start_time": "2021-05-30T04:27:10.603052Z"
    }
   },
   "outputs": [],
   "source": [
    "import sqlite3\n",
    "from sqlite3 import Error\n"
   ]
  },
  {
   "cell_type": "markdown",
   "metadata": {},
   "source": [
    "# Create a new database"
   ]
  },
  {
   "cell_type": "code",
   "execution_count": 16,
   "metadata": {
    "ExecuteTime": {
     "end_time": "2021-05-30T05:19:01.450405Z",
     "start_time": "2021-05-30T05:19:01.441408Z"
    }
   },
   "outputs": [
    {
     "name": "stdout",
     "output_type": "stream",
     "text": [
      "sqlite3 version: 2.6.0\n",
      "Created Database\n"
     ]
    }
   ],
   "source": [
    "# Create a new database file\n",
    "\n",
    "def create_connection(db_file):\n",
    "    \"\"\" create a database connection to a SQLite database \"\"\"\n",
    "    conn = None\n",
    "    # establish connect to database file\n",
    "    try:\n",
    "        conn = sqlite3.connect(db_file)\n",
    "        print(f'sqlite3 version: {sqlite3.version}')\n",
    "        print('Created Database')\n",
    "    # print error if connection can not be established\n",
    "    except Error as error:\n",
    "        print(error)\n",
    "        print('Could not create Database')\n",
    "    # close connection\n",
    "    finally:\n",
    "        if conn:\n",
    "            conn.close()\n",
    "    \n",
    "\n",
    "# run the above function (save database file to path)\n",
    "if __name__ == '__main__':\n",
    "    create_connection(r\"db\\pythonsqlite.db\")"
   ]
  },
  {
   "cell_type": "code",
   "execution_count": 17,
   "metadata": {
    "ExecuteTime": {
     "end_time": "2021-05-30T05:19:54.786404Z",
     "start_time": "2021-05-30T05:19:54.763403Z"
    }
   },
   "outputs": [
    {
     "name": "stdout",
     "output_type": "stream",
     "text": [
      "sqlite3 version: 2.6.0\n",
      "Created Database\n"
     ]
    }
   ],
   "source": [
    "# Create a new database that resides in the memory (RAM)\n",
    "\n",
    "def create_connection():\n",
    "    \"\"\" create a database connection to a database that resides\n",
    "        in the memory\n",
    "    \"\"\"\n",
    "    conn = None;\n",
    "    # establish connect to memory\n",
    "    try:\n",
    "        conn = sqlite3.connect(':memory:')\n",
    "        print(f'sqlite3 version: {sqlite3.version}')\n",
    "        print('Created Database')\n",
    "    # print error if connection can not be established\n",
    "    except Error as error:\n",
    "        print(error)\n",
    "        print('Could not create Database')\n",
    "    # close connection\n",
    "    finally:\n",
    "        if conn:\n",
    "            conn.close()\n",
    "    \n",
    "\n",
    "# run the above function\n",
    "if __name__ == '__main__':\n",
    "    create_connection()"
   ]
  },
  {
   "cell_type": "markdown",
   "metadata": {},
   "source": [
    "# Create Tables"
   ]
  },
  {
   "cell_type": "markdown",
   "metadata": {},
   "source": [
    "continue at https://www.sqlitetutorial.net/sqlite-python/create-tables/"
   ]
  },
  {
   "cell_type": "code",
   "execution_count": null,
   "metadata": {},
   "outputs": [],
   "source": []
  }
 ],
 "metadata": {
  "kernelspec": {
   "display_name": "Python 3",
   "language": "python",
   "name": "python3"
  },
  "language_info": {
   "codemirror_mode": {
    "name": "ipython",
    "version": 3
   },
   "file_extension": ".py",
   "mimetype": "text/x-python",
   "name": "python",
   "nbconvert_exporter": "python",
   "pygments_lexer": "ipython3",
   "version": "3.7.4"
  },
  "toc": {
   "base_numbering": 1,
   "nav_menu": {},
   "number_sections": true,
   "sideBar": true,
   "skip_h1_title": false,
   "title_cell": "Table of Contents",
   "title_sidebar": "Contents",
   "toc_cell": false,
   "toc_position": {},
   "toc_section_display": true,
   "toc_window_display": false
  }
 },
 "nbformat": 4,
 "nbformat_minor": 2
}
