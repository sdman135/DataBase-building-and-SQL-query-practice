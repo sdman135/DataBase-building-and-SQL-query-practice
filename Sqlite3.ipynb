{
 "cells": [
  {
   "cell_type": "code",
   "execution_count": 114,
   "metadata": {
    "ExecuteTime": {
     "end_time": "2021-05-30T23:05:30.076272Z",
     "start_time": "2021-05-30T23:05:30.065259Z"
    }
   },
   "outputs": [],
   "source": [
    "import sqlite3\n",
    "from sqlite3 import Error\n",
    "import pandas as pd\n",
    "import numpy as np"
   ]
  },
  {
   "cell_type": "markdown",
   "metadata": {},
   "source": [
    "# Loading CSV file"
   ]
  },
  {
   "cell_type": "code",
   "execution_count": 115,
   "metadata": {
    "ExecuteTime": {
     "end_time": "2021-05-30T23:05:34.060258Z",
     "start_time": "2021-05-30T23:05:30.892258Z"
    }
   },
   "outputs": [],
   "source": [
    "df_anime = pd.read_csv(r'data\\myAnimelist-No_Hentai 2.csv')\n",
    "df_rating = pd.read_csv(r'data\\rating.csv')"
   ]
  },
  {
   "cell_type": "code",
   "execution_count": 116,
   "metadata": {
    "ExecuteTime": {
     "end_time": "2021-05-30T23:05:34.076354Z",
     "start_time": "2021-05-30T23:05:34.063261Z"
    }
   },
   "outputs": [],
   "source": [
    "df_anime.rename(columns={\"animeID\":'anime_id'},inplace=True)"
   ]
  },
  {
   "cell_type": "markdown",
   "metadata": {},
   "source": [
    "# Create a new database"
   ]
  },
  {
   "cell_type": "code",
   "execution_count": 136,
   "metadata": {
    "ExecuteTime": {
     "end_time": "2021-05-30T23:11:20.776245Z",
     "start_time": "2021-05-30T23:11:20.761244Z"
    }
   },
   "outputs": [],
   "source": [
    "# Database Path object for easier calling\n",
    "db_path = r\"db\\anime.db\""
   ]
  },
  {
   "cell_type": "code",
   "execution_count": 137,
   "metadata": {
    "ExecuteTime": {
     "end_time": "2021-05-30T23:11:21.253244Z",
     "start_time": "2021-05-30T23:11:21.244244Z"
    }
   },
   "outputs": [
    {
     "name": "stdout",
     "output_type": "stream",
     "text": [
      "sqlite3 version: 2.6.0\n",
      "Created Database\n"
     ]
    }
   ],
   "source": [
    "# Create a new database file\n",
    "\n",
    "def create_connection(db_file):\n",
    "    \"\"\" create a database connection to a SQLite database \"\"\"\n",
    "    conn = None\n",
    "    # connect to database file\n",
    "    try:\n",
    "        conn = sqlite3.connect(db_file)\n",
    "        print(f'sqlite3 version: {sqlite3.version}')\n",
    "        print('Created Database')\n",
    "    # print error if connection can not be established\n",
    "    except Error as error:\n",
    "        print(error)\n",
    "        print('Could not create Database')\n",
    "    # close connection\n",
    "    finally:\n",
    "        if conn:\n",
    "            conn.close()\n",
    "    \n",
    "\n",
    "# run the above function (save database file to path)\n",
    "if __name__ == '__main__':\n",
    "    create_connection(db_path)"
   ]
  },
  {
   "cell_type": "code",
   "execution_count": 138,
   "metadata": {
    "ExecuteTime": {
     "end_time": "2021-05-30T23:11:21.411247Z",
     "start_time": "2021-05-30T23:11:21.402244Z"
    }
   },
   "outputs": [],
   "source": [
    "# # Create a new database that resides in the memory (RAM)\n",
    "\n",
    "# def create_connection():\n",
    "#     \"\"\" create a database connection to a database that resides\n",
    "#         in the memory\n",
    "#     \"\"\"\n",
    "#     conn = None;\n",
    "#     # connect to memory\n",
    "#     try:\n",
    "#         conn = sqlite3.connect(':memory:')\n",
    "#         print(f'sqlite3 version: {sqlite3.version}')\n",
    "#         print('Created Database')\n",
    "#     # print error if connection can not be established\n",
    "#     except Error as error:\n",
    "#         print(error)\n",
    "#         print('Could not create Database')\n",
    "#     # close connection\n",
    "#     finally:\n",
    "#         if conn:\n",
    "#             conn.close()\n",
    "    \n",
    "\n",
    "# # run the above function\n",
    "# if __name__ == '__main__':\n",
    "#     create_connection()\n"
   ]
  },
  {
   "cell_type": "markdown",
   "metadata": {},
   "source": [
    "# Create Tables"
   ]
  },
  {
   "cell_type": "markdown",
   "metadata": {},
   "source": [
    "continue at https://www.sqlitetutorial.net/sqlite-python/create-tables/"
   ]
  },
  {
   "cell_type": "code",
   "execution_count": 139,
   "metadata": {
    "ExecuteTime": {
     "end_time": "2021-05-30T23:11:21.586244Z",
     "start_time": "2021-05-30T23:11:21.575243Z"
    }
   },
   "outputs": [],
   "source": [
    "# function for establish connection to SQLite3 for editing database\n",
    "\n",
    "def establish_connection(db_file):\n",
    "    \"\"\" \n",
    "    creates a database connection to a SQLite database file\n",
    "    \n",
    "    :returns: Connection object or None\n",
    "    \"\"\"\n",
    "    conn = None\n",
    "    # connect to database file\n",
    "    try:\n",
    "        conn = sqlite3.connect(db_file)\n",
    "        print(f'sqlite3 version: {sqlite3.version}')\n",
    "        print('Created Database')\n",
    "    # print error if connection can not be established\n",
    "    except Error as error:\n",
    "        print(error)\n",
    "        print('Could not create Database')\n",
    "    \n",
    "    return conn"
   ]
  },
  {
   "cell_type": "code",
   "execution_count": 140,
   "metadata": {
    "ExecuteTime": {
     "end_time": "2021-05-30T23:11:21.711243Z",
     "start_time": "2021-05-30T23:11:21.693244Z"
    }
   },
   "outputs": [],
   "source": [
    "# function for creating table in database\n",
    "\n",
    "def create_table(conn, create_table_sql):\n",
    "    \"\"\" create a table from the create_table_sql statement\n",
    "    :param conn: Connection object\n",
    "    :param create_table_sql: a CREATE TABLE statement\n",
    "    :return:\n",
    "    \"\"\"\n",
    "    try:\n",
    "        # make object cursor from connect\n",
    "        c = conn.cursor()\n",
    "        # from cursor use execute to create table\n",
    "        c.execute(create_table_sql)\n",
    "    except Error as error:\n",
    "        print(error)"
   ]
  },
  {
   "cell_type": "code",
   "execution_count": 141,
   "metadata": {
    "ExecuteTime": {
     "end_time": "2021-05-30T23:11:21.948243Z",
     "start_time": "2021-05-30T23:11:21.933250Z"
    }
   },
   "outputs": [
    {
     "name": "stdout",
     "output_type": "stream",
     "text": [
      "sqlite3 version: 2.6.0\n",
      "Created Database\n"
     ]
    }
   ],
   "source": [
    "#\n",
    "\n",
    "def main():\n",
    "    \n",
    "    sql_create_anime_table = \"\"\" CREATE TABLE IF NOT EXISTS Anime (\n",
    "                                        anime_id integer PRIMARY KEY NOT NULL,\n",
    "                                        name text NOT NULL,\n",
    "                                        type text,\n",
    "                                        source text,\n",
    "                                        episodes integer,\n",
    "                                        duration datetime,\n",
    "                                        genre text,\n",
    "                                        rating text,\n",
    "                                        score real,\n",
    "                                        scored_by integer,\n",
    "                                        rank integer,\n",
    "                                        popularity integer,\n",
    "                                        members integer,\n",
    "                                        favorites integer,\n",
    "                                        FOREIGN KEY (anime_id) REFERENCES rating (anime_id)\n",
    "                                    ); \"\"\"\n",
    "\n",
    "    sql_create_rating_table = \"\"\"CREATE TABLE IF NOT EXISTS Rating (\n",
    "                                    anime_id integer PRIMARY KEY NOT NULL,\n",
    "                                    user_id integer NOT NULL,\n",
    "                                    rating integer,\n",
    "                                    FOREIGN KEY (anime_id) REFERENCES anime (anime_id)\n",
    "                                    \n",
    "                                );\"\"\"\n",
    "\n",
    "    # create a database connection\n",
    "    conn = establish_connection(db_path)\n",
    "\n",
    "    # create tables\n",
    "    if conn is not None:\n",
    "        # create projects table\n",
    "        create_table(conn, sql_create_anime_table)\n",
    "\n",
    "        # create tasks table\n",
    "        create_table(conn, sql_create_rating_table)\n",
    "    else:\n",
    "        print(\"Error! cannot create the database connection.\")\n",
    "\n",
    "    \n",
    "if __name__ == '__main__':\n",
    "    main()"
   ]
  },
  {
   "cell_type": "code",
   "execution_count": 142,
   "metadata": {
    "ExecuteTime": {
     "end_time": "2021-05-30T23:11:22.043245Z",
     "start_time": "2021-05-30T23:11:22.002244Z"
    },
    "scrolled": true
   },
   "outputs": [
    {
     "data": {
      "text/html": [
       "<div>\n",
       "<style scoped>\n",
       "    .dataframe tbody tr th:only-of-type {\n",
       "        vertical-align: middle;\n",
       "    }\n",
       "\n",
       "    .dataframe tbody tr th {\n",
       "        vertical-align: top;\n",
       "    }\n",
       "\n",
       "    .dataframe thead th {\n",
       "        text-align: right;\n",
       "    }\n",
       "</style>\n",
       "<table border=\"1\" class=\"dataframe\">\n",
       "  <thead>\n",
       "    <tr style=\"text-align: right;\">\n",
       "      <th></th>\n",
       "      <th>anime_id</th>\n",
       "      <th>name</th>\n",
       "      <th>type</th>\n",
       "      <th>source</th>\n",
       "      <th>episodes</th>\n",
       "      <th>duration</th>\n",
       "      <th>genre</th>\n",
       "      <th>rating</th>\n",
       "      <th>score</th>\n",
       "      <th>scored_by</th>\n",
       "      <th>rank</th>\n",
       "      <th>popularity</th>\n",
       "      <th>members</th>\n",
       "      <th>favorites</th>\n",
       "    </tr>\n",
       "  </thead>\n",
       "  <tbody>\n",
       "    <tr>\n",
       "      <th>0</th>\n",
       "      <td>1</td>\n",
       "      <td>Cowboy Bebop</td>\n",
       "      <td>TV</td>\n",
       "      <td>Original</td>\n",
       "      <td>26</td>\n",
       "      <td>0:24:00</td>\n",
       "      <td>['Action', 'Adventure', 'Comedy', 'Drama', 'Sc...</td>\n",
       "      <td>R - 17+ (violence &amp; profanity)</td>\n",
       "      <td>8.81</td>\n",
       "      <td>405664</td>\n",
       "      <td>26</td>\n",
       "      <td>39</td>\n",
       "      <td>795733</td>\n",
       "      <td>43460</td>\n",
       "    </tr>\n",
       "    <tr>\n",
       "      <th>1</th>\n",
       "      <td>5</td>\n",
       "      <td>Cowboy Bebop: Tengoku no Tobira</td>\n",
       "      <td>Movie</td>\n",
       "      <td>Original</td>\n",
       "      <td>1</td>\n",
       "      <td>1:55:00</td>\n",
       "      <td>['Action', 'Drama', 'Mystery', 'Sci-Fi', 'Space']</td>\n",
       "      <td>R - 17+ (violence &amp; profanity)</td>\n",
       "      <td>8.41</td>\n",
       "      <td>120243</td>\n",
       "      <td>164</td>\n",
       "      <td>449</td>\n",
       "      <td>197791</td>\n",
       "      <td>776</td>\n",
       "    </tr>\n",
       "    <tr>\n",
       "      <th>2</th>\n",
       "      <td>6</td>\n",
       "      <td>Trigun</td>\n",
       "      <td>TV</td>\n",
       "      <td>Manga</td>\n",
       "      <td>26</td>\n",
       "      <td>0:24:00</td>\n",
       "      <td>['Action', 'Sci-Fi', 'Adventure', 'Comedy', 'D...</td>\n",
       "      <td>PG-13 - Teens 13 or older</td>\n",
       "      <td>8.30</td>\n",
       "      <td>212537</td>\n",
       "      <td>255</td>\n",
       "      <td>146</td>\n",
       "      <td>408548</td>\n",
       "      <td>10432</td>\n",
       "    </tr>\n",
       "    <tr>\n",
       "      <th>3</th>\n",
       "      <td>7</td>\n",
       "      <td>Witch Hunter Robin</td>\n",
       "      <td>TV</td>\n",
       "      <td>Original</td>\n",
       "      <td>26</td>\n",
       "      <td>0:25:00</td>\n",
       "      <td>['Action', 'Magic', 'Police', 'Supernatural', ...</td>\n",
       "      <td>PG-13 - Teens 13 or older</td>\n",
       "      <td>7.33</td>\n",
       "      <td>32837</td>\n",
       "      <td>2371</td>\n",
       "      <td>1171</td>\n",
       "      <td>79397</td>\n",
       "      <td>537</td>\n",
       "    </tr>\n",
       "    <tr>\n",
       "      <th>4</th>\n",
       "      <td>8</td>\n",
       "      <td>Bouken Ou Beet</td>\n",
       "      <td>TV</td>\n",
       "      <td>Manga</td>\n",
       "      <td>52</td>\n",
       "      <td>0:23:00</td>\n",
       "      <td>['Adventure', 'Fantasy', 'Shounen', 'Supernatu...</td>\n",
       "      <td>PG - Children</td>\n",
       "      <td>7.03</td>\n",
       "      <td>4894</td>\n",
       "      <td>3544</td>\n",
       "      <td>3704</td>\n",
       "      <td>11708</td>\n",
       "      <td>14</td>\n",
       "    </tr>\n",
       "  </tbody>\n",
       "</table>\n",
       "</div>"
      ],
      "text/plain": [
       "   anime_id                             name   type    source  episodes  \\\n",
       "0         1                     Cowboy Bebop     TV  Original        26   \n",
       "1         5  Cowboy Bebop: Tengoku no Tobira  Movie  Original         1   \n",
       "2         6                           Trigun     TV     Manga        26   \n",
       "3         7               Witch Hunter Robin     TV  Original        26   \n",
       "4         8                   Bouken Ou Beet     TV     Manga        52   \n",
       "\n",
       "  duration                                              genre  \\\n",
       "0  0:24:00  ['Action', 'Adventure', 'Comedy', 'Drama', 'Sc...   \n",
       "1  1:55:00  ['Action', 'Drama', 'Mystery', 'Sci-Fi', 'Space']   \n",
       "2  0:24:00  ['Action', 'Sci-Fi', 'Adventure', 'Comedy', 'D...   \n",
       "3  0:25:00  ['Action', 'Magic', 'Police', 'Supernatural', ...   \n",
       "4  0:23:00  ['Adventure', 'Fantasy', 'Shounen', 'Supernatu...   \n",
       "\n",
       "                           rating  score  scored_by  rank  popularity  \\\n",
       "0  R - 17+ (violence & profanity)   8.81     405664    26          39   \n",
       "1  R - 17+ (violence & profanity)   8.41     120243   164         449   \n",
       "2       PG-13 - Teens 13 or older   8.30     212537   255         146   \n",
       "3       PG-13 - Teens 13 or older   7.33      32837  2371        1171   \n",
       "4                   PG - Children   7.03       4894  3544        3704   \n",
       "\n",
       "   members  favorites  \n",
       "0   795733      43460  \n",
       "1   197791        776  \n",
       "2   408548      10432  \n",
       "3    79397        537  \n",
       "4    11708         14  "
      ]
     },
     "metadata": {},
     "output_type": "display_data"
    },
    {
     "data": {
      "text/html": [
       "<div>\n",
       "<style scoped>\n",
       "    .dataframe tbody tr th:only-of-type {\n",
       "        vertical-align: middle;\n",
       "    }\n",
       "\n",
       "    .dataframe tbody tr th {\n",
       "        vertical-align: top;\n",
       "    }\n",
       "\n",
       "    .dataframe thead th {\n",
       "        text-align: right;\n",
       "    }\n",
       "</style>\n",
       "<table border=\"1\" class=\"dataframe\">\n",
       "  <thead>\n",
       "    <tr style=\"text-align: right;\">\n",
       "      <th></th>\n",
       "      <th>user_id</th>\n",
       "      <th>anime_id</th>\n",
       "      <th>rating</th>\n",
       "    </tr>\n",
       "  </thead>\n",
       "  <tbody>\n",
       "    <tr>\n",
       "      <th>0</th>\n",
       "      <td>1</td>\n",
       "      <td>20</td>\n",
       "      <td>-1</td>\n",
       "    </tr>\n",
       "    <tr>\n",
       "      <th>1</th>\n",
       "      <td>1</td>\n",
       "      <td>24</td>\n",
       "      <td>-1</td>\n",
       "    </tr>\n",
       "    <tr>\n",
       "      <th>2</th>\n",
       "      <td>1</td>\n",
       "      <td>79</td>\n",
       "      <td>-1</td>\n",
       "    </tr>\n",
       "    <tr>\n",
       "      <th>3</th>\n",
       "      <td>1</td>\n",
       "      <td>226</td>\n",
       "      <td>-1</td>\n",
       "    </tr>\n",
       "    <tr>\n",
       "      <th>4</th>\n",
       "      <td>1</td>\n",
       "      <td>241</td>\n",
       "      <td>-1</td>\n",
       "    </tr>\n",
       "  </tbody>\n",
       "</table>\n",
       "</div>"
      ],
      "text/plain": [
       "   user_id  anime_id  rating\n",
       "0        1        20      -1\n",
       "1        1        24      -1\n",
       "2        1        79      -1\n",
       "3        1       226      -1\n",
       "4        1       241      -1"
      ]
     },
     "metadata": {},
     "output_type": "display_data"
    }
   ],
   "source": [
    "display(df_anime.head(5))\n",
    "display(df_rating.head(5))"
   ]
  },
  {
   "cell_type": "markdown",
   "metadata": {},
   "source": [
    "# Populating Tables from csv files"
   ]
  },
  {
   "cell_type": "code",
   "execution_count": 143,
   "metadata": {
    "ExecuteTime": {
     "end_time": "2021-05-30T23:12:21.103244Z",
     "start_time": "2021-05-30T23:11:22.124245Z"
    }
   },
   "outputs": [],
   "source": [
    "# importing data from dataframe 'anime' to table anime\n",
    "df_anime.to_sql('Anime',sqlite3.connect(db_path), if_exists='replace')\n",
    "\n",
    "#import data from dataframe 'rating' to table rating \n",
    "df_rating.to_sql('Rating',sqlite3.connect(db_path), if_exists='replace')"
   ]
  },
  {
   "cell_type": "code",
   "execution_count": 144,
   "metadata": {
    "ExecuteTime": {
     "end_time": "2021-05-30T23:12:21.119242Z",
     "start_time": "2021-05-30T23:12:21.106243Z"
    }
   },
   "outputs": [
    {
     "name": "stdout",
     "output_type": "stream",
     "text": [
      "Connection successfully closed\n"
     ]
    }
   ],
   "source": [
    "# close connection to database\n",
    "\n",
    "def close_connection(db_file):\n",
    "    try:\n",
    "        conn = sqlite3.connect(db_file)\n",
    "        conn.close()\n",
    "        print('Connection successfully closed')\n",
    "    except Error as error:\n",
    "        print(error)\n",
    "        print('Could not close connection')\n",
    "# run the above function (save database file to path)\n",
    "if __name__ == '__main__':\n",
    "    close_connection(db_path)"
   ]
  },
  {
   "cell_type": "markdown",
   "metadata": {
    "ExecuteTime": {
     "end_time": "2021-05-30T22:20:13.465880Z",
     "start_time": "2021-05-30T22:20:13.458881Z"
    }
   },
   "source": [
    "# Querying data with conditions and saving to Pandas Dataframe"
   ]
  },
  {
   "cell_type": "code",
   "execution_count": 151,
   "metadata": {
    "ExecuteTime": {
     "end_time": "2021-05-30T23:51:34.748416Z",
     "start_time": "2021-05-30T23:51:34.731406Z"
    }
   },
   "outputs": [],
   "source": [
    "conn = sqlite3.connect(db_path)"
   ]
  },
  {
   "cell_type": "code",
   "execution_count": 155,
   "metadata": {
    "ExecuteTime": {
     "end_time": "2021-05-30T23:52:57.028772Z",
     "start_time": "2021-05-30T23:52:56.977773Z"
    }
   },
   "outputs": [
    {
     "data": {
      "text/html": [
       "<div>\n",
       "<style scoped>\n",
       "    .dataframe tbody tr th:only-of-type {\n",
       "        vertical-align: middle;\n",
       "    }\n",
       "\n",
       "    .dataframe tbody tr th {\n",
       "        vertical-align: top;\n",
       "    }\n",
       "\n",
       "    .dataframe thead th {\n",
       "        text-align: right;\n",
       "    }\n",
       "</style>\n",
       "<table border=\"1\" class=\"dataframe\">\n",
       "  <thead>\n",
       "    <tr style=\"text-align: right;\">\n",
       "      <th></th>\n",
       "      <th>index</th>\n",
       "      <th>anime_id</th>\n",
       "      <th>name</th>\n",
       "      <th>type</th>\n",
       "      <th>source</th>\n",
       "      <th>episodes</th>\n",
       "      <th>duration</th>\n",
       "      <th>genre</th>\n",
       "      <th>rating</th>\n",
       "      <th>score</th>\n",
       "      <th>scored_by</th>\n",
       "      <th>rank</th>\n",
       "      <th>popularity</th>\n",
       "      <th>members</th>\n",
       "      <th>favorites</th>\n",
       "    </tr>\n",
       "  </thead>\n",
       "  <tbody>\n",
       "    <tr>\n",
       "      <th>0</th>\n",
       "      <td>5551</td>\n",
       "      <td>38781</td>\n",
       "      <td>Violence Voyager</td>\n",
       "      <td>Movie</td>\n",
       "      <td>Original</td>\n",
       "      <td>1</td>\n",
       "      <td>1:23:00</td>\n",
       "      <td>['Adventure', 'Comedy', 'Horror']</td>\n",
       "      <td>R - 17+ (violence &amp; profanity)</td>\n",
       "      <td>10.00</td>\n",
       "      <td>1</td>\n",
       "      <td>13544</td>\n",
       "      <td>14765</td>\n",
       "      <td>65</td>\n",
       "      <td>0</td>\n",
       "    </tr>\n",
       "    <tr>\n",
       "      <th>1</th>\n",
       "      <td>5318</td>\n",
       "      <td>37149</td>\n",
       "      <td>Xing You Ji: Fengbao Famila</td>\n",
       "      <td>ONA</td>\n",
       "      <td>Original</td>\n",
       "      <td>1</td>\n",
       "      <td>1:10:00</td>\n",
       "      <td>['Sci-Fi', 'Adventure', 'Fantasy']</td>\n",
       "      <td>PG-13 - Teens 13 or older</td>\n",
       "      <td>9.33</td>\n",
       "      <td>3</td>\n",
       "      <td>13633</td>\n",
       "      <td>12651</td>\n",
       "      <td>171</td>\n",
       "      <td>0</td>\n",
       "    </tr>\n",
       "    <tr>\n",
       "      <th>2</th>\n",
       "      <td>5539</td>\n",
       "      <td>38570</td>\n",
       "      <td>Tatakae! Dokan-kun: Robolympic-hen</td>\n",
       "      <td>TV</td>\n",
       "      <td>Original</td>\n",
       "      <td>13</td>\n",
       "      <td>0:05:00</td>\n",
       "      <td>['Comedy', 'Mecha']</td>\n",
       "      <td>G - All Ages</td>\n",
       "      <td>9.25</td>\n",
       "      <td>4</td>\n",
       "      <td>13288</td>\n",
       "      <td>15264</td>\n",
       "      <td>31</td>\n",
       "      <td>0</td>\n",
       "    </tr>\n",
       "    <tr>\n",
       "      <th>3</th>\n",
       "      <td>1939</td>\n",
       "      <td>5114</td>\n",
       "      <td>Fullmetal Alchemist: Brotherhood</td>\n",
       "      <td>TV</td>\n",
       "      <td>Manga</td>\n",
       "      <td>64</td>\n",
       "      <td>0:24:00</td>\n",
       "      <td>['Action', 'Adventure', 'Comedy', 'Drama', 'Fa...</td>\n",
       "      <td>R - 17+ (violence &amp; profanity)</td>\n",
       "      <td>9.24</td>\n",
       "      <td>826899</td>\n",
       "      <td>1</td>\n",
       "      <td>4</td>\n",
       "      <td>1355349</td>\n",
       "      <td>120331</td>\n",
       "    </tr>\n",
       "    <tr>\n",
       "      <th>4</th>\n",
       "      <td>2580</td>\n",
       "      <td>9253</td>\n",
       "      <td>Steins;Gate</td>\n",
       "      <td>TV</td>\n",
       "      <td>Visual novel</td>\n",
       "      <td>24</td>\n",
       "      <td>0:24:00</td>\n",
       "      <td>['Thriller', 'Sci-Fi']</td>\n",
       "      <td>PG-13 - Teens 13 or older</td>\n",
       "      <td>9.14</td>\n",
       "      <td>633590</td>\n",
       "      <td>3</td>\n",
       "      <td>7</td>\n",
       "      <td>1139182</td>\n",
       "      <td>104173</td>\n",
       "    </tr>\n",
       "    <tr>\n",
       "      <th>...</th>\n",
       "      <td>...</td>\n",
       "      <td>...</td>\n",
       "      <td>...</td>\n",
       "      <td>...</td>\n",
       "      <td>...</td>\n",
       "      <td>...</td>\n",
       "      <td>...</td>\n",
       "      <td>...</td>\n",
       "      <td>...</td>\n",
       "      <td>...</td>\n",
       "      <td>...</td>\n",
       "      <td>...</td>\n",
       "      <td>...</td>\n",
       "      <td>...</td>\n",
       "      <td>...</td>\n",
       "    </tr>\n",
       "    <tr>\n",
       "      <th>436</th>\n",
       "      <td>2616</td>\n",
       "      <td>9513</td>\n",
       "      <td>Beelzebub</td>\n",
       "      <td>TV</td>\n",
       "      <td>Manga</td>\n",
       "      <td>60</td>\n",
       "      <td>0:24:00</td>\n",
       "      <td>['Action', 'Comedy', 'Demons', 'Supernatural',...</td>\n",
       "      <td>PG-13 - Teens 13 or older</td>\n",
       "      <td>8.01</td>\n",
       "      <td>148483</td>\n",
       "      <td>554</td>\n",
       "      <td>215</td>\n",
       "      <td>332769</td>\n",
       "      <td>4097</td>\n",
       "    </tr>\n",
       "    <tr>\n",
       "      <th>437</th>\n",
       "      <td>3971</td>\n",
       "      <td>24921</td>\n",
       "      <td>Aoki Hagane no Arpeggio: Ars Nova Cadenza</td>\n",
       "      <td>Movie</td>\n",
       "      <td>Manga</td>\n",
       "      <td>1</td>\n",
       "      <td>1:45:00</td>\n",
       "      <td>['Action', 'Sci-Fi', 'Seinen']</td>\n",
       "      <td>PG-13 - Teens 13 or older</td>\n",
       "      <td>8.01</td>\n",
       "      <td>8034</td>\n",
       "      <td>552</td>\n",
       "      <td>2831</td>\n",
       "      <td>20938</td>\n",
       "      <td>105</td>\n",
       "    </tr>\n",
       "    <tr>\n",
       "      <th>438</th>\n",
       "      <td>4075</td>\n",
       "      <td>27775</td>\n",
       "      <td>Plastic Memories</td>\n",
       "      <td>TV</td>\n",
       "      <td>Original</td>\n",
       "      <td>13</td>\n",
       "      <td>0:24:00</td>\n",
       "      <td>['Sci-Fi', 'Drama', 'Romance']</td>\n",
       "      <td>PG-13 - Teens 13 or older</td>\n",
       "      <td>8.01</td>\n",
       "      <td>197098</td>\n",
       "      <td>557</td>\n",
       "      <td>155</td>\n",
       "      <td>396716</td>\n",
       "      <td>6153</td>\n",
       "    </tr>\n",
       "    <tr>\n",
       "      <th>439</th>\n",
       "      <td>4297</td>\n",
       "      <td>30415</td>\n",
       "      <td>High☆Speed!: Free! Starting Days</td>\n",
       "      <td>Movie</td>\n",
       "      <td>Light novel</td>\n",
       "      <td>1</td>\n",
       "      <td>1:50:00</td>\n",
       "      <td>['Slice of Life', 'Comedy', 'Sports', 'Drama',...</td>\n",
       "      <td>PG-13 - Teens 13 or older</td>\n",
       "      <td>8.01</td>\n",
       "      <td>17893</td>\n",
       "      <td>555</td>\n",
       "      <td>1823</td>\n",
       "      <td>44425</td>\n",
       "      <td>202</td>\n",
       "    </tr>\n",
       "    <tr>\n",
       "      <th>440</th>\n",
       "      <td>4533</td>\n",
       "      <td>32093</td>\n",
       "      <td>Tanaka-kun wa Itsumo Kedaruge</td>\n",
       "      <td>TV</td>\n",
       "      <td>Web manga</td>\n",
       "      <td>12</td>\n",
       "      <td>0:24:00</td>\n",
       "      <td>['Slice of Life', 'Comedy', 'School']</td>\n",
       "      <td>PG-13 - Teens 13 or older</td>\n",
       "      <td>8.01</td>\n",
       "      <td>86701</td>\n",
       "      <td>562</td>\n",
       "      <td>479</td>\n",
       "      <td>192563</td>\n",
       "      <td>2138</td>\n",
       "    </tr>\n",
       "  </tbody>\n",
       "</table>\n",
       "<p>441 rows × 15 columns</p>\n",
       "</div>"
      ],
      "text/plain": [
       "     index  anime_id                                       name   type  \\\n",
       "0     5551     38781                           Violence Voyager  Movie   \n",
       "1     5318     37149                Xing You Ji: Fengbao Famila    ONA   \n",
       "2     5539     38570         Tatakae! Dokan-kun: Robolympic-hen     TV   \n",
       "3     1939      5114           Fullmetal Alchemist: Brotherhood     TV   \n",
       "4     2580      9253                                Steins;Gate     TV   \n",
       "..     ...       ...                                        ...    ...   \n",
       "436   2616      9513                                  Beelzebub     TV   \n",
       "437   3971     24921  Aoki Hagane no Arpeggio: Ars Nova Cadenza  Movie   \n",
       "438   4075     27775                           Plastic Memories     TV   \n",
       "439   4297     30415           High☆Speed!: Free! Starting Days  Movie   \n",
       "440   4533     32093              Tanaka-kun wa Itsumo Kedaruge     TV   \n",
       "\n",
       "           source  episodes duration  \\\n",
       "0        Original         1  1:23:00   \n",
       "1        Original         1  1:10:00   \n",
       "2        Original        13  0:05:00   \n",
       "3           Manga        64  0:24:00   \n",
       "4    Visual novel        24  0:24:00   \n",
       "..            ...       ...      ...   \n",
       "436         Manga        60  0:24:00   \n",
       "437         Manga         1  1:45:00   \n",
       "438      Original        13  0:24:00   \n",
       "439   Light novel         1  1:50:00   \n",
       "440     Web manga        12  0:24:00   \n",
       "\n",
       "                                                 genre  \\\n",
       "0                    ['Adventure', 'Comedy', 'Horror']   \n",
       "1                   ['Sci-Fi', 'Adventure', 'Fantasy']   \n",
       "2                                  ['Comedy', 'Mecha']   \n",
       "3    ['Action', 'Adventure', 'Comedy', 'Drama', 'Fa...   \n",
       "4                               ['Thriller', 'Sci-Fi']   \n",
       "..                                                 ...   \n",
       "436  ['Action', 'Comedy', 'Demons', 'Supernatural',...   \n",
       "437                     ['Action', 'Sci-Fi', 'Seinen']   \n",
       "438                     ['Sci-Fi', 'Drama', 'Romance']   \n",
       "439  ['Slice of Life', 'Comedy', 'Sports', 'Drama',...   \n",
       "440              ['Slice of Life', 'Comedy', 'School']   \n",
       "\n",
       "                             rating  score  scored_by   rank  popularity  \\\n",
       "0    R - 17+ (violence & profanity)  10.00          1  13544       14765   \n",
       "1         PG-13 - Teens 13 or older   9.33          3  13633       12651   \n",
       "2                      G - All Ages   9.25          4  13288       15264   \n",
       "3    R - 17+ (violence & profanity)   9.24     826899      1           4   \n",
       "4         PG-13 - Teens 13 or older   9.14     633590      3           7   \n",
       "..                              ...    ...        ...    ...         ...   \n",
       "436       PG-13 - Teens 13 or older   8.01     148483    554         215   \n",
       "437       PG-13 - Teens 13 or older   8.01       8034    552        2831   \n",
       "438       PG-13 - Teens 13 or older   8.01     197098    557         155   \n",
       "439       PG-13 - Teens 13 or older   8.01      17893    555        1823   \n",
       "440       PG-13 - Teens 13 or older   8.01      86701    562         479   \n",
       "\n",
       "     members  favorites  \n",
       "0         65          0  \n",
       "1        171          0  \n",
       "2         31          0  \n",
       "3    1355349     120331  \n",
       "4    1139182     104173  \n",
       "..       ...        ...  \n",
       "436   332769       4097  \n",
       "437    20938        105  \n",
       "438   396716       6153  \n",
       "439    44425        202  \n",
       "440   192563       2138  \n",
       "\n",
       "[441 rows x 15 columns]"
      ]
     },
     "execution_count": 155,
     "metadata": {},
     "output_type": "execute_result"
    }
   ],
   "source": [
    "\n",
    "df_score_greater_then_8 = pd.read_sql_query(\"\"\"SELECT * \n",
    "                                               from Anime \n",
    "                                               where score>8 \n",
    "                                               order by score desc;\"\"\", conn)\n",
    "df_score_greater_then_8"
   ]
  },
  {
   "cell_type": "code",
   "execution_count": null,
   "metadata": {},
   "outputs": [],
   "source": []
  },
  {
   "cell_type": "code",
   "execution_count": null,
   "metadata": {},
   "outputs": [],
   "source": []
  },
  {
   "cell_type": "code",
   "execution_count": null,
   "metadata": {},
   "outputs": [],
   "source": []
  },
  {
   "cell_type": "code",
   "execution_count": null,
   "metadata": {},
   "outputs": [],
   "source": []
  },
  {
   "cell_type": "code",
   "execution_count": null,
   "metadata": {},
   "outputs": [],
   "source": []
  },
  {
   "cell_type": "code",
   "execution_count": null,
   "metadata": {},
   "outputs": [],
   "source": []
  },
  {
   "cell_type": "code",
   "execution_count": null,
   "metadata": {},
   "outputs": [],
   "source": []
  },
  {
   "cell_type": "code",
   "execution_count": null,
   "metadata": {},
   "outputs": [],
   "source": []
  },
  {
   "cell_type": "code",
   "execution_count": null,
   "metadata": {},
   "outputs": [],
   "source": []
  }
 ],
 "metadata": {
  "kernelspec": {
   "display_name": "Python 3",
   "language": "python",
   "name": "python3"
  },
  "language_info": {
   "codemirror_mode": {
    "name": "ipython",
    "version": 3
   },
   "file_extension": ".py",
   "mimetype": "text/x-python",
   "name": "python",
   "nbconvert_exporter": "python",
   "pygments_lexer": "ipython3",
   "version": "3.7.4"
  },
  "toc": {
   "base_numbering": 1,
   "nav_menu": {},
   "number_sections": true,
   "sideBar": true,
   "skip_h1_title": false,
   "title_cell": "Table of Contents",
   "title_sidebar": "Contents",
   "toc_cell": false,
   "toc_position": {},
   "toc_section_display": true,
   "toc_window_display": false
  }
 },
 "nbformat": 4,
 "nbformat_minor": 2
}
