{
 "cells": [
  {
   "cell_type": "code",
   "execution_count": 1,
   "metadata": {
    "ExecuteTime": {
     "end_time": "2021-07-20T17:49:20.875566Z",
     "start_time": "2021-07-20T17:49:19.612565Z"
    }
   },
   "outputs": [],
   "source": [
    "import sqlite3\n",
    "from sqlite3 import Error\n",
    "import pandas as pd\n",
    "import numpy as np"
   ]
  },
  {
   "cell_type": "markdown",
   "metadata": {},
   "source": [
    "# Create a new database"
   ]
  },
  {
   "cell_type": "code",
   "execution_count": 2,
   "metadata": {
    "ExecuteTime": {
     "end_time": "2021-07-20T17:49:20.891566Z",
     "start_time": "2021-07-20T17:49:20.879567Z"
    }
   },
   "outputs": [],
   "source": [
    "# Database Path object for easier calling\n",
    "db_path = r\"db\\Danny_Diner.db\""
   ]
  },
  {
   "cell_type": "code",
   "execution_count": 3,
   "metadata": {
    "ExecuteTime": {
     "end_time": "2021-07-20T17:49:20.925567Z",
     "start_time": "2021-07-20T17:49:20.897566Z"
    }
   },
   "outputs": [
    {
     "name": "stdout",
     "output_type": "stream",
     "text": [
      "sqlite3 version: 2.6.0\n",
      "Created Database\n"
     ]
    }
   ],
   "source": [
    "# Create a new database file\n",
    "\n",
    "def create_database(db_file):\n",
    "    \"\"\" create a database connection to a SQLite database \"\"\"\n",
    "    conn = None\n",
    "    # connect to database file\n",
    "    try:\n",
    "        conn = sqlite3.connect(db_file)\n",
    "        print(f'sqlite3 version: {sqlite3.version}')\n",
    "        print('Created Database')\n",
    "    # print error if connection can not be established\n",
    "    except Error as error:\n",
    "        print(error)\n",
    "        print('Could not create Database')\n",
    "    # close connection\n",
    "    finally:\n",
    "        if conn:\n",
    "            conn.close()\n",
    "    \n",
    "\n",
    "# run the above function (save database file to path)\n",
    "if __name__ == '__main__':\n",
    "    create_database(db_path)"
   ]
  },
  {
   "cell_type": "markdown",
   "metadata": {
    "heading_collapsed": true
   },
   "source": [
    "# Create Tables"
   ]
  },
  {
   "cell_type": "code",
   "execution_count": 128,
   "metadata": {
    "ExecuteTime": {
     "end_time": "2021-07-05T04:41:01.915846Z",
     "start_time": "2021-07-05T04:41:01.908845Z"
    },
    "hidden": true
   },
   "outputs": [],
   "source": [
    "# function for establish connection to SQLite3 for editing database\n",
    "\n",
    "def establish_connection(db_file):\n",
    "    \"\"\" \n",
    "    creates a database connection to a SQLite database file\n",
    "    \n",
    "    :returns: Connection object or None\n",
    "    \"\"\"\n",
    "    conn = None\n",
    "    # connect to database file\n",
    "    try:\n",
    "        conn = sqlite3.connect(db_file)\n",
    "        print(f'sqlite3 version: {sqlite3.version}')\n",
    "        print('Connected to Database path')\n",
    "    # print error if connection can not be established\n",
    "    except Error as error:\n",
    "        print(error)\n",
    "        print('Could not create Database')\n",
    "    \n",
    "    return conn"
   ]
  },
  {
   "cell_type": "code",
   "execution_count": 129,
   "metadata": {
    "ExecuteTime": {
     "end_time": "2021-07-05T04:41:02.202846Z",
     "start_time": "2021-07-05T04:41:02.186844Z"
    },
    "hidden": true,
    "scrolled": true
   },
   "outputs": [
    {
     "name": "stdout",
     "output_type": "stream",
     "text": [
      "sqlite3 version: 2.6.0\n",
      "Connected to Database path\n"
     ]
    }
   ],
   "source": [
    "conn = establish_connection(db_path)"
   ]
  },
  {
   "cell_type": "code",
   "execution_count": 130,
   "metadata": {
    "ExecuteTime": {
     "end_time": "2021-07-05T04:41:02.457844Z",
     "start_time": "2021-07-05T04:41:02.436845Z"
    },
    "hidden": true
   },
   "outputs": [],
   "source": [
    "# function for creating table in database\n",
    "\n",
    "def create_table(conn, create_table_sql):\n",
    "    \"\"\" create a table from the create_table_sql statement\n",
    "    :param conn: Connection object\n",
    "    :param create_table_sql: a CREATE TABLE statement\n",
    "    :return:\n",
    "    \"\"\"\n",
    "    print('Creating tables')\n",
    "    try:\n",
    "        # make object cursor from connect\n",
    "        c = conn.cursor()\n",
    "        # from cursor use execute to create table\n",
    "        c.execute(create_table_sql)\n",
    "    except Error as error:\n",
    "        print(error)"
   ]
  },
  {
   "cell_type": "code",
   "execution_count": 135,
   "metadata": {
    "ExecuteTime": {
     "end_time": "2021-07-05T04:41:37.775846Z",
     "start_time": "2021-07-05T04:41:37.749844Z"
    },
    "hidden": true
   },
   "outputs": [
    {
     "name": "stdout",
     "output_type": "stream",
     "text": [
      "Creating tables\n",
      "Creating tables\n",
      "Creating tables\n",
      "Created tables\n"
     ]
    }
   ],
   "source": [
    "# Create database schema\n",
    "\n",
    "def main():\n",
    "    \n",
    "    sql_create_table_sales = \"\"\"\n",
    "                                CREATE TABLE IF NOT EXISTS sales(\n",
    "                                                                 idx INTEGER PRIMARY KEY AUTOINCREMENT,\n",
    "                                                                 customer_id VARCHAR(1),\n",
    "                                                                 order_date DATE,\n",
    "                                                                 product_id INTEGER,\n",
    "                                                                 FOREIGN KEY (customer_id) REFERENCES members (customer_id)\n",
    "                                                                 FOREIGN KEY (product_id) REFERENCES menu (product_id)\n",
    "                                                                 );\"\"\"\n",
    "    sql_create_table_menu = \"\"\"\n",
    "                               CREATE TABLE IF NOT EXISTS menu(\n",
    "                                                               product_id INTEGER PRIMARY KEY NOT NULL,\n",
    "                                                               product_name VARCHAR(5),\n",
    "                                                               price INTEGER,\n",
    "                                                               FOREIGN KEY (product_id) REFERENCES sales (product_id)\n",
    "                                                                 );\"\"\"\n",
    "    sql_create_table_members = \"\"\"\n",
    "                                  CREATE TABLE IF NOT EXISTS members(\n",
    "                                                                     customer_id VARCHAR(1) PRIMARY KEY NOT NULL,\n",
    "                                                                     join_date DATE,\n",
    "                                                                     FOREIGN KEY (customer_id) REFERENCES sales (customer_id))\n",
    "                            ;\"\"\"\n",
    "\n",
    "    # create a database connection\n",
    "    \n",
    "\n",
    "    # create tables\n",
    "    if conn is not None:\n",
    "        # create sales table\n",
    "        create_table(conn, sql_create_table_sales)\n",
    "        create_table(conn, sql_create_table_menu)\n",
    "        create_table(conn, sql_create_table_members)\n",
    "        print(\"Created tables\")\n",
    "    else:\n",
    "        print(\"Error! cannot create the database connection.\")\n",
    "        \n",
    "    \n",
    "\n",
    "    \n",
    "if __name__ == '__main__':\n",
    "    main()"
   ]
  },
  {
   "cell_type": "markdown",
   "metadata": {
    "heading_collapsed": true
   },
   "source": [
    "# Insert data into Tables"
   ]
  },
  {
   "cell_type": "code",
   "execution_count": 171,
   "metadata": {
    "ExecuteTime": {
     "end_time": "2021-07-05T05:35:00.862505Z",
     "start_time": "2021-07-05T05:35:00.848507Z"
    },
    "hidden": true,
    "scrolled": true
   },
   "outputs": [
    {
     "name": "stdout",
     "output_type": "stream",
     "text": [
      "sqlite3 version: 2.6.0\n",
      "Connected to Database path\n"
     ]
    }
   ],
   "source": [
    "conn = establish_connection(db_path)"
   ]
  },
  {
   "cell_type": "code",
   "execution_count": 172,
   "metadata": {
    "ExecuteTime": {
     "end_time": "2021-07-05T05:35:01.945505Z",
     "start_time": "2021-07-05T05:35:01.877505Z"
    },
    "hidden": true
   },
   "outputs": [
    {
     "data": {
      "text/html": [
       "<div>\n",
       "<style scoped>\n",
       "    .dataframe tbody tr th:only-of-type {\n",
       "        vertical-align: middle;\n",
       "    }\n",
       "\n",
       "    .dataframe tbody tr th {\n",
       "        vertical-align: top;\n",
       "    }\n",
       "\n",
       "    .dataframe thead th {\n",
       "        text-align: right;\n",
       "    }\n",
       "</style>\n",
       "<table border=\"1\" class=\"dataframe\">\n",
       "  <thead>\n",
       "    <tr style=\"text-align: right;\">\n",
       "      <th></th>\n",
       "      <th>customer_id</th>\n",
       "      <th>order_date</th>\n",
       "      <th>product_id</th>\n",
       "    </tr>\n",
       "  </thead>\n",
       "  <tbody>\n",
       "    <tr>\n",
       "      <th>0</th>\n",
       "      <td>A</td>\n",
       "      <td>2021-01-01</td>\n",
       "      <td>1</td>\n",
       "    </tr>\n",
       "    <tr>\n",
       "      <th>1</th>\n",
       "      <td>A</td>\n",
       "      <td>2021-01-07</td>\n",
       "      <td>2</td>\n",
       "    </tr>\n",
       "    <tr>\n",
       "      <th>2</th>\n",
       "      <td>A</td>\n",
       "      <td>2021-01-09</td>\n",
       "      <td>2</td>\n",
       "    </tr>\n",
       "    <tr>\n",
       "      <th>3</th>\n",
       "      <td>A</td>\n",
       "      <td>2021-01-09</td>\n",
       "      <td>3</td>\n",
       "    </tr>\n",
       "    <tr>\n",
       "      <th>4</th>\n",
       "      <td>A</td>\n",
       "      <td>2021-01-11</td>\n",
       "      <td>3</td>\n",
       "    </tr>\n",
       "    <tr>\n",
       "      <th>5</th>\n",
       "      <td>A</td>\n",
       "      <td>2021-01-12</td>\n",
       "      <td>3</td>\n",
       "    </tr>\n",
       "    <tr>\n",
       "      <th>6</th>\n",
       "      <td>B</td>\n",
       "      <td>2021-01-02</td>\n",
       "      <td>2</td>\n",
       "    </tr>\n",
       "    <tr>\n",
       "      <th>7</th>\n",
       "      <td>B</td>\n",
       "      <td>2021-01-04</td>\n",
       "      <td>2</td>\n",
       "    </tr>\n",
       "    <tr>\n",
       "      <th>8</th>\n",
       "      <td>B</td>\n",
       "      <td>2021-01-09</td>\n",
       "      <td>1</td>\n",
       "    </tr>\n",
       "    <tr>\n",
       "      <th>9</th>\n",
       "      <td>B</td>\n",
       "      <td>2021-01-11</td>\n",
       "      <td>1</td>\n",
       "    </tr>\n",
       "    <tr>\n",
       "      <th>10</th>\n",
       "      <td>B</td>\n",
       "      <td>2021-01-16</td>\n",
       "      <td>3</td>\n",
       "    </tr>\n",
       "    <tr>\n",
       "      <th>11</th>\n",
       "      <td>B</td>\n",
       "      <td>2021-02-01</td>\n",
       "      <td>3</td>\n",
       "    </tr>\n",
       "    <tr>\n",
       "      <th>12</th>\n",
       "      <td>C</td>\n",
       "      <td>2021-01-07</td>\n",
       "      <td>3</td>\n",
       "    </tr>\n",
       "    <tr>\n",
       "      <th>13</th>\n",
       "      <td>C</td>\n",
       "      <td>2021-01-17</td>\n",
       "      <td>3</td>\n",
       "    </tr>\n",
       "    <tr>\n",
       "      <th>14</th>\n",
       "      <td>C</td>\n",
       "      <td>2021-01-28</td>\n",
       "      <td>3</td>\n",
       "    </tr>\n",
       "  </tbody>\n",
       "</table>\n",
       "</div>"
      ],
      "text/plain": [
       "   customer_id  order_date  product_id\n",
       "0            A  2021-01-01           1\n",
       "1            A  2021-01-07           2\n",
       "2            A  2021-01-09           2\n",
       "3            A  2021-01-09           3\n",
       "4            A  2021-01-11           3\n",
       "5            A  2021-01-12           3\n",
       "6            B  2021-01-02           2\n",
       "7            B  2021-01-04           2\n",
       "8            B  2021-01-09           1\n",
       "9            B  2021-01-11           1\n",
       "10           B  2021-01-16           3\n",
       "11           B  2021-02-01           3\n",
       "12           C  2021-01-07           3\n",
       "13           C  2021-01-17           3\n",
       "14           C  2021-01-28           3"
      ]
     },
     "metadata": {},
     "output_type": "display_data"
    }
   ],
   "source": [
    "sales_values =     [('A', '2021-01-01', 1),\n",
    "                    ('A', '2021-01-07', 2),\n",
    "                    ('A', '2021-01-09', 2),\n",
    "                    ('A', '2021-01-09', 3),\n",
    "                    ('A', '2021-01-11', 3),\n",
    "                    ('A', '2021-01-12', 3),\n",
    "                    ('B', '2021-01-02', 2),\n",
    "                    ('B', '2021-01-04', 2),\n",
    "                    ('B', '2021-01-09', 1),\n",
    "                    ('B', '2021-01-11', 1),\n",
    "                    ('B', '2021-01-16', 3),\n",
    "                    ('B', '2021-02-01', 3),\n",
    "                    ('C', '2021-01-07', 3),\n",
    "                    ('C', '2021-01-17', 3),\n",
    "                    ('C', '2021-01-28', 3)]\n",
    "sales_table = pd.DataFrame(data=sales_values,columns=[\"customer_id\", \"order_date\", \"product_id\"])\n",
    "display(sales_table)\n",
    "sales_table.to_sql('sales',sqlite3.connect(db_path), if_exists='replace')"
   ]
  },
  {
   "cell_type": "code",
   "execution_count": 173,
   "metadata": {
    "ExecuteTime": {
     "end_time": "2021-07-05T05:35:03.756516Z",
     "start_time": "2021-07-05T05:35:03.738506Z"
    },
    "hidden": true
   },
   "outputs": [],
   "source": [
    "# # functions for inserting new data into tables in database\n",
    "\n",
    "# def insert_into_sales_tables(conn,sales_values):\n",
    "\n",
    "#     sql_insert_statement_sales = \"\"\" \n",
    "#                                     INSERT into sales\n",
    "#                                         (customer_id, order_date, product_id)\n",
    "#                                     VALUES\n",
    "#                                         (?, ?, ?)\n",
    "#                                         ;\"\"\"\n",
    "#     cur = conn.cursor()\n",
    "#     cur.execute(sql_insert_statement_sales, sales_values)\n",
    "#     conn.commit()\n",
    "    \n",
    "\n",
    "# def main1():\n",
    "    \n",
    "    \n",
    "#     sales_values = [('A', '2021-01-01', 1),\n",
    "#                     ('A', '2021-04-07', 2),\n",
    "#                     ('A', '2021-01-09', 2),\n",
    "#                     ('A', '2021-01-10', 3),\n",
    "#                     ('A', '2021-01-11', 3),\n",
    "#                     ('A', '2021-01-12', 3),\n",
    "#                     ('B', '2021-01-02', 2),\n",
    "#                     ('B', '2021-01-04', 2),\n",
    "#                     ('B', '2021-01-09', 1),\n",
    "#                     ('B', '2021-01-11', 1),\n",
    "#                     ('B', '2021-01-16', 3),\n",
    "#                     ('B', '2021-02-01', 3),\n",
    "#                     ('C', '2021-01-07', 3),\n",
    "#                     ('C', '2021-01-17', 3),\n",
    "#                     ('C', '2021-01-28', 3)]\n",
    "    \n",
    "    \n",
    "    \n",
    "#     # insert data\n",
    "#     with conn:\n",
    "#         for x in sales_values:\n",
    "#             insert_into_sales_tables(conn, x)\n",
    "            \n",
    "#     print(\"Successfully inserted new anime data into table\")\n",
    "    \n",
    "# if __name__ == '__main__':\n",
    "#     main1()\n",
    "#     close_connection(db_path)"
   ]
  },
  {
   "cell_type": "code",
   "execution_count": 174,
   "metadata": {
    "ExecuteTime": {
     "end_time": "2021-07-05T05:35:04.344506Z",
     "start_time": "2021-07-05T05:35:04.290515Z"
    },
    "hidden": true
   },
   "outputs": [
    {
     "data": {
      "text/html": [
       "<div>\n",
       "<style scoped>\n",
       "    .dataframe tbody tr th:only-of-type {\n",
       "        vertical-align: middle;\n",
       "    }\n",
       "\n",
       "    .dataframe tbody tr th {\n",
       "        vertical-align: top;\n",
       "    }\n",
       "\n",
       "    .dataframe thead th {\n",
       "        text-align: right;\n",
       "    }\n",
       "</style>\n",
       "<table border=\"1\" class=\"dataframe\">\n",
       "  <thead>\n",
       "    <tr style=\"text-align: right;\">\n",
       "      <th></th>\n",
       "      <th>product_id</th>\n",
       "      <th>product_name</th>\n",
       "      <th>price</th>\n",
       "    </tr>\n",
       "  </thead>\n",
       "  <tbody>\n",
       "    <tr>\n",
       "      <th>0</th>\n",
       "      <td>1</td>\n",
       "      <td>sushi</td>\n",
       "      <td>10</td>\n",
       "    </tr>\n",
       "    <tr>\n",
       "      <th>1</th>\n",
       "      <td>2</td>\n",
       "      <td>curry</td>\n",
       "      <td>15</td>\n",
       "    </tr>\n",
       "    <tr>\n",
       "      <th>2</th>\n",
       "      <td>3</td>\n",
       "      <td>ramen</td>\n",
       "      <td>12</td>\n",
       "    </tr>\n",
       "  </tbody>\n",
       "</table>\n",
       "</div>"
      ],
      "text/plain": [
       "   product_id product_name  price\n",
       "0           1        sushi     10\n",
       "1           2        curry     15\n",
       "2           3        ramen     12"
      ]
     },
     "metadata": {},
     "output_type": "display_data"
    }
   ],
   "source": [
    "menu_values =  [(1, 'sushi', 10),\n",
    "                (2, 'curry', 15),\n",
    "                (3, 'ramen', 12)]\n",
    "\n",
    "menu_table = pd.DataFrame(data=menu_values,columns=[\"product_id\", \"product_name\", \"price\"])\n",
    "display(menu_table)\n",
    "menu_table.to_sql('menu',sqlite3.connect(db_path), if_exists='replace')"
   ]
  },
  {
   "cell_type": "code",
   "execution_count": 175,
   "metadata": {
    "ExecuteTime": {
     "end_time": "2021-07-05T05:35:04.708507Z",
     "start_time": "2021-07-05T05:35:04.700527Z"
    },
    "hidden": true,
    "scrolled": true
   },
   "outputs": [],
   "source": [
    "# def insert_into_menu_tables(conn,menu_values):    \n",
    "#     sql_insert_statement_menu = \"\"\"                                 \n",
    "#                                 INSERT or REPLACE INTO menu\n",
    "#                                     (product_id, product_name, price)\n",
    "#                                 VALUES\n",
    "#                                     (?, ?, ?)\n",
    "#                                     ;\"\"\"\n",
    "#     cur = conn.cursor()\n",
    "#     cur.execute(sql_insert_statement_menu,menu_values)\n",
    "#     conn.commit()\n",
    "# #     return cur.lastrowid\n",
    "\n",
    "# def main():\n",
    "    \n",
    "    \n",
    "#     menu_values =  [(1, 'sushi', 10),\n",
    "#                     (2, 'curry', 15),\n",
    "#                     (3, 'ramen', 12)]\n",
    "    \n",
    "    \n",
    "#     # insert data\n",
    "#     with conn:\n",
    "#         for y in menu_values:\n",
    "#             insert_into_menu_tables(conn, y)\n",
    "#     print(\"Successfully inserted new anime data into table\")\n",
    "\n",
    "# if __name__ == '__main__':\n",
    "#     main()\n",
    "#     close_connection(db_path)"
   ]
  },
  {
   "cell_type": "code",
   "execution_count": 176,
   "metadata": {
    "ExecuteTime": {
     "end_time": "2021-07-05T05:35:05.212506Z",
     "start_time": "2021-07-05T05:35:05.167506Z"
    },
    "hidden": true
   },
   "outputs": [
    {
     "data": {
      "text/html": [
       "<div>\n",
       "<style scoped>\n",
       "    .dataframe tbody tr th:only-of-type {\n",
       "        vertical-align: middle;\n",
       "    }\n",
       "\n",
       "    .dataframe tbody tr th {\n",
       "        vertical-align: top;\n",
       "    }\n",
       "\n",
       "    .dataframe thead th {\n",
       "        text-align: right;\n",
       "    }\n",
       "</style>\n",
       "<table border=\"1\" class=\"dataframe\">\n",
       "  <thead>\n",
       "    <tr style=\"text-align: right;\">\n",
       "      <th></th>\n",
       "      <th>customer_id</th>\n",
       "      <th>join_date</th>\n",
       "    </tr>\n",
       "  </thead>\n",
       "  <tbody>\n",
       "    <tr>\n",
       "      <th>0</th>\n",
       "      <td>A</td>\n",
       "      <td>2021-01-01</td>\n",
       "    </tr>\n",
       "    <tr>\n",
       "      <th>1</th>\n",
       "      <td>B</td>\n",
       "      <td>2021-01-02</td>\n",
       "    </tr>\n",
       "    <tr>\n",
       "      <th>2</th>\n",
       "      <td>C</td>\n",
       "      <td>2021-01-07</td>\n",
       "    </tr>\n",
       "  </tbody>\n",
       "</table>\n",
       "</div>"
      ],
      "text/plain": [
       "  customer_id   join_date\n",
       "0           A  2021-01-01\n",
       "1           B  2021-01-02\n",
       "2           C  2021-01-07"
      ]
     },
     "metadata": {},
     "output_type": "display_data"
    }
   ],
   "source": [
    "members_values = [('A', '2021-01-01'),\n",
    "                  ('B', '2021-01-02'),\n",
    "                  ('C', '2021-01-07')]\n",
    "\n",
    "members_table = pd.DataFrame(data=members_values,columns=[\"customer_id\", \"join_date\"])\n",
    "display(members_table)\n",
    "members_table.to_sql('members',sqlite3.connect(db_path), if_exists='replace')"
   ]
  },
  {
   "cell_type": "code",
   "execution_count": 177,
   "metadata": {
    "ExecuteTime": {
     "end_time": "2021-07-05T05:35:05.722506Z",
     "start_time": "2021-07-05T05:35:05.703507Z"
    },
    "hidden": true
   },
   "outputs": [],
   "source": [
    "# def insert_into_members_tables(conn,member_values):\n",
    "#     sql_insert_statement_members = \"\"\"                                  \n",
    "#                                         INSERT or REPLACE INTO members\n",
    "#                                             (customer_id, join_date)\n",
    "#                                         VALUES\n",
    "#                                             (?, ?)\n",
    "\n",
    "#                                             ;\"\"\"\n",
    "#     cur = conn.cursor()\n",
    "#     cur.execute(sql_insert_statement_members,member_values)\n",
    "#     conn.commit()\n",
    "# #     return cur.lastrowid\n",
    "    \n",
    "    \n",
    "# def main():\n",
    "    \n",
    "#     members_values = [('A', '2021-01-01'),\n",
    "#                       ('B', '2021-01-02'),\n",
    "#                       ('C', '2021-01-07')]\n",
    "    \n",
    "    \n",
    "    \n",
    "#     # insert data\n",
    "#     with conn:\n",
    "#         for z in members_values:\n",
    "#             insert_into_members_tables(conn, z)\n",
    "#     print(\"Successfully inserted new anime data into table\")\n",
    "        \n",
    "\n",
    "\n",
    "        \n",
    "\n",
    "    \n",
    "    \n",
    "    \n",
    "# if __name__ == '__main__':\n",
    "#     main()\n",
    "#     close_connection(db_path)"
   ]
  },
  {
   "cell_type": "markdown",
   "metadata": {
    "heading_collapsed": true
   },
   "source": [
    "# Close connection"
   ]
  },
  {
   "cell_type": "code",
   "execution_count": 178,
   "metadata": {
    "ExecuteTime": {
     "end_time": "2021-07-05T05:35:06.935506Z",
     "start_time": "2021-07-05T05:35:06.922507Z"
    },
    "hidden": true
   },
   "outputs": [
    {
     "name": "stdout",
     "output_type": "stream",
     "text": [
      "Connection successfully closed\n"
     ]
    }
   ],
   "source": [
    "# close connection to database\n",
    "\n",
    "def close_connection(db_file):\n",
    "    try:\n",
    "        conn = sqlite3.connect(db_file)\n",
    "        conn.close()\n",
    "        print('Connection successfully closed')\n",
    "    except Error as error:\n",
    "        print(error)\n",
    "        print('Could not close connection')\n",
    "# run the above function (save database file to path)\n",
    "if __name__ == '__main__':\n",
    "    close_connection(db_path)"
   ]
  },
  {
   "cell_type": "markdown",
   "metadata": {
    "ExecuteTime": {
     "end_time": "2021-05-30T22:20:13.465880Z",
     "start_time": "2021-05-30T22:20:13.458881Z"
    }
   },
   "source": [
    "# Querying data with conditions and save to Pandas Dataframe"
   ]
  },
  {
   "cell_type": "code",
   "execution_count": 4,
   "metadata": {
    "ExecuteTime": {
     "end_time": "2021-07-20T17:49:34.956565Z",
     "start_time": "2021-07-20T17:49:34.937566Z"
    }
   },
   "outputs": [],
   "source": [
    "conn = sqlite3.connect(db_path)"
   ]
  },
  {
   "cell_type": "markdown",
   "metadata": {},
   "source": [
    "                            Case Study Questions\n",
    "Each of the following case study questions can be answered using a single SQL statement:\n",
    "\n",
    "1)  What is the total amount each customer spent at the restaurant?\n",
    "\n",
    "2)  How many days has each customer visited the restaurant?\n",
    "\n",
    "3)  What was the first item from the menu purchased by each customer?\n",
    "\n",
    "4)  What is the most purchased item on the menu and how many times was it purchased by all customers?\n",
    "\n",
    "5)  Which item was the most popular for each customer?\n",
    "\n",
    "6)  Which item was purchased first by the customer after they became a member?\n",
    "\n",
    "7)  Which item was purchased just before the customer became a member?\n",
    "\n",
    "8)  What is the total items and amount spent for each member before they became a member?\n",
    "\n",
    "9)  If each $1 spent equates to 10 points and sushi has a 2x points multiplier - how many points would each customer have?\n",
    "\n",
    "10) In the first week after a customer joins the program (including their join date) they earn 2x points on all items, not just sushi \n",
    "    -How many points do customer A and B have at the end of January?"
   ]
  },
  {
   "cell_type": "code",
   "execution_count": 31,
   "metadata": {
    "ExecuteTime": {
     "end_time": "2021-07-21T08:21:00.679683Z",
     "start_time": "2021-07-21T08:21:00.624684Z"
    }
   },
   "outputs": [
    {
     "data": {
      "text/plain": [
       "'Sales Table'"
      ]
     },
     "metadata": {},
     "output_type": "display_data"
    },
    {
     "data": {
      "text/html": [
       "<div>\n",
       "<style scoped>\n",
       "    .dataframe tbody tr th:only-of-type {\n",
       "        vertical-align: middle;\n",
       "    }\n",
       "\n",
       "    .dataframe tbody tr th {\n",
       "        vertical-align: top;\n",
       "    }\n",
       "\n",
       "    .dataframe thead th {\n",
       "        text-align: right;\n",
       "    }\n",
       "</style>\n",
       "<table border=\"1\" class=\"dataframe\">\n",
       "  <thead>\n",
       "    <tr style=\"text-align: right;\">\n",
       "      <th></th>\n",
       "      <th>index</th>\n",
       "      <th>customer_id</th>\n",
       "      <th>order_date</th>\n",
       "      <th>product_id</th>\n",
       "    </tr>\n",
       "  </thead>\n",
       "  <tbody>\n",
       "    <tr>\n",
       "      <th>0</th>\n",
       "      <td>0</td>\n",
       "      <td>A</td>\n",
       "      <td>2021-01-01</td>\n",
       "      <td>1</td>\n",
       "    </tr>\n",
       "    <tr>\n",
       "      <th>1</th>\n",
       "      <td>1</td>\n",
       "      <td>A</td>\n",
       "      <td>2021-01-07</td>\n",
       "      <td>2</td>\n",
       "    </tr>\n",
       "    <tr>\n",
       "      <th>2</th>\n",
       "      <td>2</td>\n",
       "      <td>A</td>\n",
       "      <td>2021-01-09</td>\n",
       "      <td>2</td>\n",
       "    </tr>\n",
       "    <tr>\n",
       "      <th>3</th>\n",
       "      <td>3</td>\n",
       "      <td>A</td>\n",
       "      <td>2021-01-09</td>\n",
       "      <td>3</td>\n",
       "    </tr>\n",
       "    <tr>\n",
       "      <th>4</th>\n",
       "      <td>4</td>\n",
       "      <td>A</td>\n",
       "      <td>2021-01-11</td>\n",
       "      <td>3</td>\n",
       "    </tr>\n",
       "    <tr>\n",
       "      <th>5</th>\n",
       "      <td>5</td>\n",
       "      <td>A</td>\n",
       "      <td>2021-01-12</td>\n",
       "      <td>3</td>\n",
       "    </tr>\n",
       "    <tr>\n",
       "      <th>6</th>\n",
       "      <td>6</td>\n",
       "      <td>B</td>\n",
       "      <td>2021-01-02</td>\n",
       "      <td>2</td>\n",
       "    </tr>\n",
       "    <tr>\n",
       "      <th>7</th>\n",
       "      <td>7</td>\n",
       "      <td>B</td>\n",
       "      <td>2021-01-04</td>\n",
       "      <td>2</td>\n",
       "    </tr>\n",
       "    <tr>\n",
       "      <th>8</th>\n",
       "      <td>8</td>\n",
       "      <td>B</td>\n",
       "      <td>2021-01-09</td>\n",
       "      <td>1</td>\n",
       "    </tr>\n",
       "    <tr>\n",
       "      <th>9</th>\n",
       "      <td>9</td>\n",
       "      <td>B</td>\n",
       "      <td>2021-01-11</td>\n",
       "      <td>1</td>\n",
       "    </tr>\n",
       "    <tr>\n",
       "      <th>10</th>\n",
       "      <td>10</td>\n",
       "      <td>B</td>\n",
       "      <td>2021-01-16</td>\n",
       "      <td>3</td>\n",
       "    </tr>\n",
       "    <tr>\n",
       "      <th>11</th>\n",
       "      <td>11</td>\n",
       "      <td>B</td>\n",
       "      <td>2021-02-01</td>\n",
       "      <td>3</td>\n",
       "    </tr>\n",
       "    <tr>\n",
       "      <th>12</th>\n",
       "      <td>12</td>\n",
       "      <td>C</td>\n",
       "      <td>2021-01-07</td>\n",
       "      <td>3</td>\n",
       "    </tr>\n",
       "    <tr>\n",
       "      <th>13</th>\n",
       "      <td>13</td>\n",
       "      <td>C</td>\n",
       "      <td>2021-01-17</td>\n",
       "      <td>3</td>\n",
       "    </tr>\n",
       "    <tr>\n",
       "      <th>14</th>\n",
       "      <td>14</td>\n",
       "      <td>C</td>\n",
       "      <td>2021-01-28</td>\n",
       "      <td>3</td>\n",
       "    </tr>\n",
       "  </tbody>\n",
       "</table>\n",
       "</div>"
      ],
      "text/plain": [
       "    index customer_id  order_date  product_id\n",
       "0       0           A  2021-01-01           1\n",
       "1       1           A  2021-01-07           2\n",
       "2       2           A  2021-01-09           2\n",
       "3       3           A  2021-01-09           3\n",
       "4       4           A  2021-01-11           3\n",
       "5       5           A  2021-01-12           3\n",
       "6       6           B  2021-01-02           2\n",
       "7       7           B  2021-01-04           2\n",
       "8       8           B  2021-01-09           1\n",
       "9       9           B  2021-01-11           1\n",
       "10     10           B  2021-01-16           3\n",
       "11     11           B  2021-02-01           3\n",
       "12     12           C  2021-01-07           3\n",
       "13     13           C  2021-01-17           3\n",
       "14     14           C  2021-01-28           3"
      ]
     },
     "metadata": {},
     "output_type": "display_data"
    },
    {
     "data": {
      "text/plain": [
       "'Menu Table'"
      ]
     },
     "metadata": {},
     "output_type": "display_data"
    },
    {
     "data": {
      "text/html": [
       "<div>\n",
       "<style scoped>\n",
       "    .dataframe tbody tr th:only-of-type {\n",
       "        vertical-align: middle;\n",
       "    }\n",
       "\n",
       "    .dataframe tbody tr th {\n",
       "        vertical-align: top;\n",
       "    }\n",
       "\n",
       "    .dataframe thead th {\n",
       "        text-align: right;\n",
       "    }\n",
       "</style>\n",
       "<table border=\"1\" class=\"dataframe\">\n",
       "  <thead>\n",
       "    <tr style=\"text-align: right;\">\n",
       "      <th></th>\n",
       "      <th>index</th>\n",
       "      <th>product_id</th>\n",
       "      <th>product_name</th>\n",
       "      <th>price</th>\n",
       "    </tr>\n",
       "  </thead>\n",
       "  <tbody>\n",
       "    <tr>\n",
       "      <th>0</th>\n",
       "      <td>0</td>\n",
       "      <td>1</td>\n",
       "      <td>sushi</td>\n",
       "      <td>10</td>\n",
       "    </tr>\n",
       "    <tr>\n",
       "      <th>1</th>\n",
       "      <td>1</td>\n",
       "      <td>2</td>\n",
       "      <td>curry</td>\n",
       "      <td>15</td>\n",
       "    </tr>\n",
       "    <tr>\n",
       "      <th>2</th>\n",
       "      <td>2</td>\n",
       "      <td>3</td>\n",
       "      <td>ramen</td>\n",
       "      <td>12</td>\n",
       "    </tr>\n",
       "  </tbody>\n",
       "</table>\n",
       "</div>"
      ],
      "text/plain": [
       "   index  product_id product_name  price\n",
       "0      0           1        sushi     10\n",
       "1      1           2        curry     15\n",
       "2      2           3        ramen     12"
      ]
     },
     "metadata": {},
     "output_type": "display_data"
    },
    {
     "data": {
      "text/plain": [
       "'Members Table'"
      ]
     },
     "metadata": {},
     "output_type": "display_data"
    },
    {
     "data": {
      "text/html": [
       "<div>\n",
       "<style scoped>\n",
       "    .dataframe tbody tr th:only-of-type {\n",
       "        vertical-align: middle;\n",
       "    }\n",
       "\n",
       "    .dataframe tbody tr th {\n",
       "        vertical-align: top;\n",
       "    }\n",
       "\n",
       "    .dataframe thead th {\n",
       "        text-align: right;\n",
       "    }\n",
       "</style>\n",
       "<table border=\"1\" class=\"dataframe\">\n",
       "  <thead>\n",
       "    <tr style=\"text-align: right;\">\n",
       "      <th></th>\n",
       "      <th>index</th>\n",
       "      <th>customer_id</th>\n",
       "      <th>join_date</th>\n",
       "    </tr>\n",
       "  </thead>\n",
       "  <tbody>\n",
       "    <tr>\n",
       "      <th>0</th>\n",
       "      <td>0</td>\n",
       "      <td>A</td>\n",
       "      <td>2021-01-01</td>\n",
       "    </tr>\n",
       "    <tr>\n",
       "      <th>1</th>\n",
       "      <td>1</td>\n",
       "      <td>B</td>\n",
       "      <td>2021-01-02</td>\n",
       "    </tr>\n",
       "    <tr>\n",
       "      <th>2</th>\n",
       "      <td>2</td>\n",
       "      <td>C</td>\n",
       "      <td>2021-01-07</td>\n",
       "    </tr>\n",
       "  </tbody>\n",
       "</table>\n",
       "</div>"
      ],
      "text/plain": [
       "   index customer_id   join_date\n",
       "0      0           A  2021-01-01\n",
       "1      1           B  2021-01-02\n",
       "2      2           C  2021-01-07"
      ]
     },
     "metadata": {},
     "output_type": "display_data"
    }
   ],
   "source": [
    "display(\"Sales Table\",pd.read_sql_query(\"\"\"SELECT * from sales;\"\"\", conn))\n",
    "\n",
    "\n",
    "display(\"Menu Table\",pd.read_sql_query(\"\"\"SELECT * from menu;\"\"\", conn))\n",
    "\n",
    "\n",
    "display(\"Members Table\",pd.read_sql_query(\"\"\"SELECT * from members;\"\"\", conn))"
   ]
  },
  {
   "cell_type": "markdown",
   "metadata": {},
   "source": [
    "1) What is the total amount each customer spent at the restaurant?"
   ]
  },
  {
   "cell_type": "code",
   "execution_count": 6,
   "metadata": {
    "ExecuteTime": {
     "end_time": "2021-07-20T17:49:39.726566Z",
     "start_time": "2021-07-20T17:49:39.700566Z"
    }
   },
   "outputs": [
    {
     "data": {
      "text/html": [
       "<div>\n",
       "<style scoped>\n",
       "    .dataframe tbody tr th:only-of-type {\n",
       "        vertical-align: middle;\n",
       "    }\n",
       "\n",
       "    .dataframe tbody tr th {\n",
       "        vertical-align: top;\n",
       "    }\n",
       "\n",
       "    .dataframe thead th {\n",
       "        text-align: right;\n",
       "    }\n",
       "</style>\n",
       "<table border=\"1\" class=\"dataframe\">\n",
       "  <thead>\n",
       "    <tr style=\"text-align: right;\">\n",
       "      <th></th>\n",
       "      <th>customer_id</th>\n",
       "      <th>total_spending</th>\n",
       "    </tr>\n",
       "  </thead>\n",
       "  <tbody>\n",
       "    <tr>\n",
       "      <th>0</th>\n",
       "      <td>A</td>\n",
       "      <td>76</td>\n",
       "    </tr>\n",
       "    <tr>\n",
       "      <th>1</th>\n",
       "      <td>B</td>\n",
       "      <td>74</td>\n",
       "    </tr>\n",
       "    <tr>\n",
       "      <th>2</th>\n",
       "      <td>C</td>\n",
       "      <td>36</td>\n",
       "    </tr>\n",
       "  </tbody>\n",
       "</table>\n",
       "</div>"
      ],
      "text/plain": [
       "  customer_id  total_spending\n",
       "0           A              76\n",
       "1           B              74\n",
       "2           C              36"
      ]
     },
     "execution_count": 6,
     "metadata": {},
     "output_type": "execute_result"
    }
   ],
   "source": [
    "\n",
    "df_total_customer_spent = pd.read_sql_query(\"\"\"SELECT members.customer_id, sum(menu.price) total_spending\n",
    "                                               from members \n",
    "                                               left join sales on members.customer_id = sales.customer_id\n",
    "                                               inner join menu on sales.product_id = menu.product_id\n",
    "                                               group by members.customer_id\n",
    "                                               ;\"\"\", conn)\n",
    "                                               \n",
    "df_total_customer_spent"
   ]
  },
  {
   "cell_type": "markdown",
   "metadata": {},
   "source": [
    "2) How many days has each customer visited the restaurant?"
   ]
  },
  {
   "cell_type": "code",
   "execution_count": 7,
   "metadata": {
    "ExecuteTime": {
     "end_time": "2021-07-20T17:49:41.372565Z",
     "start_time": "2021-07-20T17:49:41.358565Z"
    }
   },
   "outputs": [
    {
     "data": {
      "text/html": [
       "<div>\n",
       "<style scoped>\n",
       "    .dataframe tbody tr th:only-of-type {\n",
       "        vertical-align: middle;\n",
       "    }\n",
       "\n",
       "    .dataframe tbody tr th {\n",
       "        vertical-align: top;\n",
       "    }\n",
       "\n",
       "    .dataframe thead th {\n",
       "        text-align: right;\n",
       "    }\n",
       "</style>\n",
       "<table border=\"1\" class=\"dataframe\">\n",
       "  <thead>\n",
       "    <tr style=\"text-align: right;\">\n",
       "      <th></th>\n",
       "      <th>customer_id</th>\n",
       "      <th>count(distinct s.order_date)</th>\n",
       "    </tr>\n",
       "  </thead>\n",
       "  <tbody>\n",
       "    <tr>\n",
       "      <th>0</th>\n",
       "      <td>A</td>\n",
       "      <td>5</td>\n",
       "    </tr>\n",
       "    <tr>\n",
       "      <th>1</th>\n",
       "      <td>B</td>\n",
       "      <td>6</td>\n",
       "    </tr>\n",
       "    <tr>\n",
       "      <th>2</th>\n",
       "      <td>C</td>\n",
       "      <td>3</td>\n",
       "    </tr>\n",
       "  </tbody>\n",
       "</table>\n",
       "</div>"
      ],
      "text/plain": [
       "  customer_id  count(distinct s.order_date)\n",
       "0           A                             5\n",
       "1           B                             6\n",
       "2           C                             3"
      ]
     },
     "execution_count": 7,
     "metadata": {},
     "output_type": "execute_result"
    }
   ],
   "source": [
    "df_customer_total_visits = pd.read_sql_query(\"\"\"\n",
    "                                                SELECT m.customer_id, count(distinct s.order_date)\n",
    "                                                from members m\n",
    "                                                left join sales s on m.customer_id = s.customer_id\n",
    "                                                group by m.customer_id\n",
    "                                                ;\"\"\", conn)\n",
    "df_customer_total_visits"
   ]
  },
  {
   "cell_type": "markdown",
   "metadata": {},
   "source": [
    "3) What was the first item from the menu purchased by each customer?"
   ]
  },
  {
   "cell_type": "code",
   "execution_count": 22,
   "metadata": {
    "ExecuteTime": {
     "end_time": "2021-07-20T17:58:40.352566Z",
     "start_time": "2021-07-20T17:58:40.331564Z"
    }
   },
   "outputs": [
    {
     "data": {
      "text/html": [
       "<div>\n",
       "<style scoped>\n",
       "    .dataframe tbody tr th:only-of-type {\n",
       "        vertical-align: middle;\n",
       "    }\n",
       "\n",
       "    .dataframe tbody tr th {\n",
       "        vertical-align: top;\n",
       "    }\n",
       "\n",
       "    .dataframe thead th {\n",
       "        text-align: right;\n",
       "    }\n",
       "</style>\n",
       "<table border=\"1\" class=\"dataframe\">\n",
       "  <thead>\n",
       "    <tr style=\"text-align: right;\">\n",
       "      <th></th>\n",
       "      <th>customer_id</th>\n",
       "      <th>product_name</th>\n",
       "      <th>order_date</th>\n",
       "    </tr>\n",
       "  </thead>\n",
       "  <tbody>\n",
       "    <tr>\n",
       "      <th>0</th>\n",
       "      <td>A</td>\n",
       "      <td>sushi</td>\n",
       "      <td>2021-01-01</td>\n",
       "    </tr>\n",
       "    <tr>\n",
       "      <th>1</th>\n",
       "      <td>B</td>\n",
       "      <td>curry</td>\n",
       "      <td>2021-01-02</td>\n",
       "    </tr>\n",
       "    <tr>\n",
       "      <th>2</th>\n",
       "      <td>C</td>\n",
       "      <td>ramen</td>\n",
       "      <td>2021-01-07</td>\n",
       "    </tr>\n",
       "  </tbody>\n",
       "</table>\n",
       "</div>"
      ],
      "text/plain": [
       "  customer_id product_name  order_date\n",
       "0           A        sushi  2021-01-01\n",
       "1           B        curry  2021-01-02\n",
       "2           C        ramen  2021-01-07"
      ]
     },
     "execution_count": 22,
     "metadata": {},
     "output_type": "execute_result"
    }
   ],
   "source": [
    "first_purchase_by_customer = pd.read_sql_query(\"\"\"select sales.customer_id, menu.product_name,sales.order_date\n",
    "                                                  from sales\n",
    "                                                  inner join menu on sales.product_id = menu.product_id\n",
    "                                                  group by sales.customer_id\n",
    "                                                  order by sales.order_date asc\n",
    "                                                  ;\"\"\", conn)\n",
    "first_purchase_by_customer"
   ]
  },
  {
   "cell_type": "markdown",
   "metadata": {},
   "source": [
    "4) What is the most purchased item on the menu and how many times was it purchased by all customers?"
   ]
  },
  {
   "cell_type": "code",
   "execution_count": 28,
   "metadata": {
    "ExecuteTime": {
     "end_time": "2021-07-21T08:18:06.215641Z",
     "start_time": "2021-07-21T08:18:06.198643Z"
    }
   },
   "outputs": [
    {
     "data": {
      "text/html": [
       "<div>\n",
       "<style scoped>\n",
       "    .dataframe tbody tr th:only-of-type {\n",
       "        vertical-align: middle;\n",
       "    }\n",
       "\n",
       "    .dataframe tbody tr th {\n",
       "        vertical-align: top;\n",
       "    }\n",
       "\n",
       "    .dataframe thead th {\n",
       "        text-align: right;\n",
       "    }\n",
       "</style>\n",
       "<table border=\"1\" class=\"dataframe\">\n",
       "  <thead>\n",
       "    <tr style=\"text-align: right;\">\n",
       "      <th></th>\n",
       "      <th>product_name</th>\n",
       "      <th>total_purchases</th>\n",
       "    </tr>\n",
       "  </thead>\n",
       "  <tbody>\n",
       "    <tr>\n",
       "      <th>0</th>\n",
       "      <td>ramen</td>\n",
       "      <td>8</td>\n",
       "    </tr>\n",
       "    <tr>\n",
       "      <th>1</th>\n",
       "      <td>curry</td>\n",
       "      <td>4</td>\n",
       "    </tr>\n",
       "    <tr>\n",
       "      <th>2</th>\n",
       "      <td>sushi</td>\n",
       "      <td>3</td>\n",
       "    </tr>\n",
       "  </tbody>\n",
       "</table>\n",
       "</div>"
      ],
      "text/plain": [
       "  product_name  total_purchases\n",
       "0        ramen                8\n",
       "1        curry                4\n",
       "2        sushi                3"
      ]
     },
     "execution_count": 28,
     "metadata": {},
     "output_type": "execute_result"
    }
   ],
   "source": [
    "total_purchases_by_product = pd.read_sql_query(\"\"\"\n",
    "                                                  select m.product_name,Count(s.product_id) total_purchases\n",
    "                                                  from sales s\n",
    "                                                  left join menu m \n",
    "                                                      on s.product_id = m.product_id\n",
    "                                                  group by m.product_name\n",
    "                                                  order by total_purchases desc\n",
    "                                                  \"\"\",conn)\n",
    "total_purchases_by_product"
   ]
  },
  {
   "cell_type": "markdown",
   "metadata": {},
   "source": [
    "5) Which item was the most popular for each customer?"
   ]
  },
  {
   "cell_type": "code",
   "execution_count": null,
   "metadata": {},
   "outputs": [],
   "source": [
    "most_popular_by_customer = pd.read_sql_query(\"\"\"\n",
    "                                                select customer_id, product_name,Count(s.product_id) total_purchases\n",
    "                                                from\n",
    "                                                inner join\n",
    "                                                    on\n",
    "                                                group by customer_id\n",
    "                                                order by total_purchases desc\n",
    "                                                \"\"\")\n",
    "\n",
    "most_popular_by_customer"
   ]
  }
 ],
 "metadata": {
  "kernelspec": {
   "display_name": "Python 3",
   "language": "python",
   "name": "python3"
  },
  "language_info": {
   "codemirror_mode": {
    "name": "ipython",
    "version": 3
   },
   "file_extension": ".py",
   "mimetype": "text/x-python",
   "name": "python",
   "nbconvert_exporter": "python",
   "pygments_lexer": "ipython3",
   "version": "3.7.4"
  },
  "toc": {
   "base_numbering": 1,
   "nav_menu": {},
   "number_sections": true,
   "sideBar": true,
   "skip_h1_title": false,
   "title_cell": "Table of Contents",
   "title_sidebar": "Contents",
   "toc_cell": false,
   "toc_position": {},
   "toc_section_display": true,
   "toc_window_display": false
  }
 },
 "nbformat": 4,
 "nbformat_minor": 2
}
